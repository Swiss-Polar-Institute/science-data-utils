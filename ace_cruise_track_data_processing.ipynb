{
 "cells": [
  {
   "cell_type": "markdown",
   "metadata": {},
   "source": [
    "# Antarctic Circumnavigation Expedition Cruise Track data processing"
   ]
  },
  {
   "cell_type": "markdown",
   "metadata": {},
   "source": [
    "## GLONASS and Trimble GPS data"
   ]
  },
  {
   "cell_type": "markdown",
   "metadata": {},
   "source": [
    "Follow the steps as described here: http://epic.awi.de/48174/"
   ]
  },
  {
   "cell_type": "markdown",
   "metadata": {},
   "source": [
    "Import relevant packages"
   ]
  },
  {
   "cell_type": "code",
   "execution_count": 13,
   "metadata": {
    "collapsed": false
   },
   "outputs": [],
   "source": [
    "import pandas as pd\n",
    "import csv\n",
    "import MySQLdb\n",
    "import datetime\n",
    "import math"
   ]
  },
  {
   "cell_type": "markdown",
   "metadata": {},
   "source": [
    "### STEP 1 - Extract data from database"
   ]
  },
  {
   "cell_type": "markdown",
   "metadata": {},
   "source": [
    "Import data from a database table into a dataframe"
   ]
  },
  {
   "cell_type": "code",
   "execution_count": 3,
   "metadata": {
    "collapsed": true
   },
   "outputs": [],
   "source": [
    "def get_data_from_database(query, db_connection):\n",
    "    \n",
    "    dataframe = pd.read_sql(query, con=db_connection)\n",
    "\n",
    "    return dataframe"
   ]
  },
  {
   "cell_type": "markdown",
   "metadata": {},
   "source": [
    "**GPS data**"
   ]
  },
  {
   "cell_type": "code",
   "execution_count": 4,
   "metadata": {
    "collapsed": false
   },
   "outputs": [
    {
     "name": "stdout",
     "output_type": "stream",
     "text": [
      "ace\n"
     ]
    }
   ],
   "source": [
    "query_trimble = 'select * from ship_data_gpggagpsfix where device_id=63;'\n",
    "password = input()"
   ]
  },
  {
   "cell_type": "code",
   "execution_count": 5,
   "metadata": {
    "collapsed": true
   },
   "outputs": [],
   "source": [
    "db_connection = MySQLdb.connect(host = 'localhost', user = 'ace', passwd = password, db = 'ace2016', port = 3306); \n",
    "\n",
    "gpsdb_df = get_data_from_database(query_trimble, db_connection)\n",
    "#gpsdb_df_opt = optimise_dataframe(gpsdb_df_opt)"
   ]
  },
  {
   "cell_type": "markdown",
   "metadata": {},
   "source": [
    "Preview data"
   ]
  },
  {
   "cell_type": "code",
   "execution_count": 6,
   "metadata": {
    "collapsed": false
   },
   "outputs": [
    {
     "data": {
      "text/html": [
       "<div>\n",
       "<style scoped>\n",
       "    .dataframe tbody tr th:only-of-type {\n",
       "        vertical-align: middle;\n",
       "    }\n",
       "\n",
       "    .dataframe tbody tr th {\n",
       "        vertical-align: top;\n",
       "    }\n",
       "\n",
       "    .dataframe thead th {\n",
       "        text-align: right;\n",
       "    }\n",
       "</style>\n",
       "<table border=\"1\" class=\"dataframe\">\n",
       "  <thead>\n",
       "    <tr style=\"text-align: right;\">\n",
       "      <th></th>\n",
       "      <th>id</th>\n",
       "      <th>date_time</th>\n",
       "      <th>latitude</th>\n",
       "      <th>longitude</th>\n",
       "      <th>fix_quality</th>\n",
       "      <th>number_satellites</th>\n",
       "      <th>horiz_dilution_of_position</th>\n",
       "      <th>altitude</th>\n",
       "      <th>altitude_units</th>\n",
       "      <th>geoid_height</th>\n",
       "      <th>geoid_height_units</th>\n",
       "      <th>device_id</th>\n",
       "      <th>measureland_qualifier_flags_id</th>\n",
       "    </tr>\n",
       "  </thead>\n",
       "  <tbody>\n",
       "    <tr>\n",
       "      <th>744480</th>\n",
       "      <td>1015188</td>\n",
       "      <td>2016-12-30 17:00:55.140</td>\n",
       "      <td>-46.138910</td>\n",
       "      <td>51.131783</td>\n",
       "      <td>5</td>\n",
       "      <td>8</td>\n",
       "      <td>0.128</td>\n",
       "      <td>5.227</td>\n",
       "      <td>M</td>\n",
       "      <td>43.375</td>\n",
       "      <td>M</td>\n",
       "      <td>63</td>\n",
       "      <td>1</td>\n",
       "    </tr>\n",
       "    <tr>\n",
       "      <th>2140644</th>\n",
       "      <td>3779830</td>\n",
       "      <td>2017-01-15 20:57:42.100</td>\n",
       "      <td>-49.799955</td>\n",
       "      <td>131.113433</td>\n",
       "      <td>5</td>\n",
       "      <td>8</td>\n",
       "      <td>0.128</td>\n",
       "      <td>-1.853</td>\n",
       "      <td>M</td>\n",
       "      <td>-21.868</td>\n",
       "      <td>M</td>\n",
       "      <td>63</td>\n",
       "      <td>1</td>\n",
       "    </tr>\n",
       "    <tr>\n",
       "      <th>5182367</th>\n",
       "      <td>10165197</td>\n",
       "      <td>2017-02-24 00:52:02.700</td>\n",
       "      <td>-53.170331</td>\n",
       "      <td>-70.906564</td>\n",
       "      <td>5</td>\n",
       "      <td>7</td>\n",
       "      <td>0.128</td>\n",
       "      <td>1.034</td>\n",
       "      <td>M</td>\n",
       "      <td>12.840</td>\n",
       "      <td>M</td>\n",
       "      <td>63</td>\n",
       "      <td>1</td>\n",
       "    </tr>\n",
       "    <tr>\n",
       "      <th>1600860</th>\n",
       "      <td>2859608</td>\n",
       "      <td>2017-01-09 14:59:42.630</td>\n",
       "      <td>-53.113562</td>\n",
       "      <td>81.768518</td>\n",
       "      <td>5</td>\n",
       "      <td>11</td>\n",
       "      <td>0.128</td>\n",
       "      <td>-3.913</td>\n",
       "      <td>M</td>\n",
       "      <td>26.489</td>\n",
       "      <td>M</td>\n",
       "      <td>63</td>\n",
       "      <td>1</td>\n",
       "    </tr>\n",
       "    <tr>\n",
       "      <th>6810612</th>\n",
       "      <td>13400045</td>\n",
       "      <td>2017-03-14 21:55:42.510</td>\n",
       "      <td>-48.999201</td>\n",
       "      <td>8.997714</td>\n",
       "      <td>5</td>\n",
       "      <td>9</td>\n",
       "      <td>0.128</td>\n",
       "      <td>-4.569</td>\n",
       "      <td>M</td>\n",
       "      <td>25.965</td>\n",
       "      <td>M</td>\n",
       "      <td>63</td>\n",
       "      <td>1</td>\n",
       "    </tr>\n",
       "  </tbody>\n",
       "</table>\n",
       "</div>"
      ],
      "text/plain": [
       "               id               date_time   latitude   longitude  fix_quality  \\\n",
       "744480    1015188 2016-12-30 17:00:55.140 -46.138910   51.131783            5   \n",
       "2140644   3779830 2017-01-15 20:57:42.100 -49.799955  131.113433            5   \n",
       "5182367  10165197 2017-02-24 00:52:02.700 -53.170331  -70.906564            5   \n",
       "1600860   2859608 2017-01-09 14:59:42.630 -53.113562   81.768518            5   \n",
       "6810612  13400045 2017-03-14 21:55:42.510 -48.999201    8.997714            5   \n",
       "\n",
       "         number_satellites  horiz_dilution_of_position  altitude  \\\n",
       "744480                   8                       0.128     5.227   \n",
       "2140644                  8                       0.128    -1.853   \n",
       "5182367                  7                       0.128     1.034   \n",
       "1600860                 11                       0.128    -3.913   \n",
       "6810612                  9                       0.128    -4.569   \n",
       "\n",
       "        altitude_units  geoid_height geoid_height_units  device_id  \\\n",
       "744480               M        43.375                  M         63   \n",
       "2140644              M       -21.868                  M         63   \n",
       "5182367              M        12.840                  M         63   \n",
       "1600860              M        26.489                  M         63   \n",
       "6810612              M        25.965                  M         63   \n",
       "\n",
       "         measureland_qualifier_flags_id  \n",
       "744480                                1  \n",
       "2140644                               1  \n",
       "5182367                               1  \n",
       "1600860                               1  \n",
       "6810612                               1  "
      ]
     },
     "execution_count": 6,
     "metadata": {},
     "output_type": "execute_result"
    }
   ],
   "source": [
    "gpsdb_df.sample(5)"
   ]
  },
  {
   "cell_type": "markdown",
   "metadata": {},
   "source": [
    "Number of data points output"
   ]
  },
  {
   "cell_type": "code",
   "execution_count": 7,
   "metadata": {
    "collapsed": false
   },
   "outputs": [
    {
     "data": {
      "text/plain": [
       "8534827"
      ]
     },
     "execution_count": 7,
     "metadata": {},
     "output_type": "execute_result"
    }
   ],
   "source": [
    "len(gpsdb_df)"
   ]
  },
  {
   "cell_type": "markdown",
   "metadata": {},
   "source": [
    "Dates and times covered by the Trimble data set: "
   ]
  },
  {
   "cell_type": "code",
   "execution_count": 8,
   "metadata": {
    "collapsed": false
   },
   "outputs": [
    {
     "name": "stdout",
     "output_type": "stream",
     "text": [
      "Start date: 2016-12-21 06:59:14.440000\n",
      "End date: 2017-04-11 08:07:13.600000\n"
     ]
    }
   ],
   "source": [
    "print(\"Start date:\", gpsdb_df['date_time'].min())\n",
    "print(\"End date:\", gpsdb_df['date_time'].max())"
   ]
  },
  {
   "cell_type": "markdown",
   "metadata": {},
   "source": [
    "Output the data into monthly files (to be able to plot them to visually screen the obvious outliers)."
   ]
  },
  {
   "cell_type": "code",
   "execution_count": 9,
   "metadata": {
    "collapsed": false
   },
   "outputs": [
    {
     "data": {
      "text/plain": [
       "id                                         int64\n",
       "date_time                         datetime64[ns]\n",
       "latitude                                 float64\n",
       "longitude                                float64\n",
       "fix_quality                                int64\n",
       "number_satellites                          int64\n",
       "horiz_dilution_of_position               float64\n",
       "altitude                                 float64\n",
       "altitude_units                            object\n",
       "geoid_height                             float64\n",
       "geoid_height_units                        object\n",
       "device_id                                  int64\n",
       "measureland_qualifier_flags_id             int64\n",
       "dtype: object"
      ]
     },
     "execution_count": 9,
     "metadata": {},
     "output_type": "execute_result"
    }
   ],
   "source": [
    "gpsdb_df.dtypes"
   ]
  },
  {
   "cell_type": "code",
   "execution_count": 10,
   "metadata": {
    "collapsed": false
   },
   "outputs": [],
   "source": [
    "gpsdb_df['date_time_day'] = gpsdb_df['date_time'].dt.strftime('%Y-%m-%d')"
   ]
  },
  {
   "cell_type": "code",
   "execution_count": 11,
   "metadata": {
    "collapsed": false
   },
   "outputs": [
    {
     "data": {
      "text/html": [
       "<div>\n",
       "<style scoped>\n",
       "    .dataframe tbody tr th:only-of-type {\n",
       "        vertical-align: middle;\n",
       "    }\n",
       "\n",
       "    .dataframe tbody tr th {\n",
       "        vertical-align: top;\n",
       "    }\n",
       "\n",
       "    .dataframe thead th {\n",
       "        text-align: right;\n",
       "    }\n",
       "</style>\n",
       "<table border=\"1\" class=\"dataframe\">\n",
       "  <thead>\n",
       "    <tr style=\"text-align: right;\">\n",
       "      <th></th>\n",
       "      <th>id</th>\n",
       "      <th>date_time</th>\n",
       "      <th>latitude</th>\n",
       "      <th>longitude</th>\n",
       "      <th>fix_quality</th>\n",
       "      <th>number_satellites</th>\n",
       "      <th>horiz_dilution_of_position</th>\n",
       "      <th>altitude</th>\n",
       "      <th>altitude_units</th>\n",
       "      <th>geoid_height</th>\n",
       "      <th>geoid_height_units</th>\n",
       "      <th>device_id</th>\n",
       "      <th>measureland_qualifier_flags_id</th>\n",
       "      <th>date_time_day</th>\n",
       "    </tr>\n",
       "  </thead>\n",
       "  <tbody>\n",
       "    <tr>\n",
       "      <th>4563403</th>\n",
       "      <td>8936942</td>\n",
       "      <td>2017-02-16 20:55:49.440</td>\n",
       "      <td>-67.392557</td>\n",
       "      <td>-79.726328</td>\n",
       "      <td>5</td>\n",
       "      <td>10</td>\n",
       "      <td>0.128</td>\n",
       "      <td>-3.821</td>\n",
       "      <td>M</td>\n",
       "      <td>-5.309</td>\n",
       "      <td>M</td>\n",
       "      <td>63</td>\n",
       "      <td>1</td>\n",
       "      <td>2017-02-16</td>\n",
       "    </tr>\n",
       "    <tr>\n",
       "      <th>3464682</th>\n",
       "      <td>6752685</td>\n",
       "      <td>2017-02-04 03:30:48.030</td>\n",
       "      <td>-66.676425</td>\n",
       "      <td>162.789018</td>\n",
       "      <td>5</td>\n",
       "      <td>9</td>\n",
       "      <td>0.128</td>\n",
       "      <td>1.423</td>\n",
       "      <td>M</td>\n",
       "      <td>-50.194</td>\n",
       "      <td>M</td>\n",
       "      <td>63</td>\n",
       "      <td>1</td>\n",
       "      <td>2017-02-04</td>\n",
       "    </tr>\n",
       "    <tr>\n",
       "      <th>7698105</th>\n",
       "      <td>15544363</td>\n",
       "      <td>2017-03-29 12:34:23.160</td>\n",
       "      <td>-2.959205</td>\n",
       "      <td>-7.561956</td>\n",
       "      <td>5</td>\n",
       "      <td>10</td>\n",
       "      <td>0.128</td>\n",
       "      <td>2.667</td>\n",
       "      <td>M</td>\n",
       "      <td>18.436</td>\n",
       "      <td>M</td>\n",
       "      <td>63</td>\n",
       "      <td>1</td>\n",
       "      <td>2017-03-29</td>\n",
       "    </tr>\n",
       "    <tr>\n",
       "      <th>4220158</th>\n",
       "      <td>8580038</td>\n",
       "      <td>2017-02-12 21:30:14.330</td>\n",
       "      <td>-73.074384</td>\n",
       "      <td>-127.317405</td>\n",
       "      <td>5</td>\n",
       "      <td>8</td>\n",
       "      <td>0.128</td>\n",
       "      <td>-1.908</td>\n",
       "      <td>M</td>\n",
       "      <td>-42.566</td>\n",
       "      <td>M</td>\n",
       "      <td>63</td>\n",
       "      <td>1</td>\n",
       "      <td>2017-02-12</td>\n",
       "    </tr>\n",
       "    <tr>\n",
       "      <th>6019758</th>\n",
       "      <td>11815897</td>\n",
       "      <td>2017-03-05 17:33:48.110</td>\n",
       "      <td>-56.203943</td>\n",
       "      <td>-33.056325</td>\n",
       "      <td>5</td>\n",
       "      <td>8</td>\n",
       "      <td>0.128</td>\n",
       "      <td>-0.851</td>\n",
       "      <td>M</td>\n",
       "      <td>18.521</td>\n",
       "      <td>M</td>\n",
       "      <td>63</td>\n",
       "      <td>1</td>\n",
       "      <td>2017-03-05</td>\n",
       "    </tr>\n",
       "  </tbody>\n",
       "</table>\n",
       "</div>"
      ],
      "text/plain": [
       "               id               date_time   latitude   longitude  fix_quality  \\\n",
       "4563403   8936942 2017-02-16 20:55:49.440 -67.392557  -79.726328            5   \n",
       "3464682   6752685 2017-02-04 03:30:48.030 -66.676425  162.789018            5   \n",
       "7698105  15544363 2017-03-29 12:34:23.160  -2.959205   -7.561956            5   \n",
       "4220158   8580038 2017-02-12 21:30:14.330 -73.074384 -127.317405            5   \n",
       "6019758  11815897 2017-03-05 17:33:48.110 -56.203943  -33.056325            5   \n",
       "\n",
       "         number_satellites  horiz_dilution_of_position  altitude  \\\n",
       "4563403                 10                       0.128    -3.821   \n",
       "3464682                  9                       0.128     1.423   \n",
       "7698105                 10                       0.128     2.667   \n",
       "4220158                  8                       0.128    -1.908   \n",
       "6019758                  8                       0.128    -0.851   \n",
       "\n",
       "        altitude_units  geoid_height geoid_height_units  device_id  \\\n",
       "4563403              M        -5.309                  M         63   \n",
       "3464682              M       -50.194                  M         63   \n",
       "7698105              M        18.436                  M         63   \n",
       "4220158              M       -42.566                  M         63   \n",
       "6019758              M        18.521                  M         63   \n",
       "\n",
       "         measureland_qualifier_flags_id date_time_day  \n",
       "4563403                               1    2017-02-16  \n",
       "3464682                               1    2017-02-04  \n",
       "7698105                               1    2017-03-29  \n",
       "4220158                               1    2017-02-12  \n",
       "6019758                               1    2017-03-05  "
      ]
     },
     "execution_count": 11,
     "metadata": {},
     "output_type": "execute_result"
    }
   ],
   "source": [
    "gpsdb_df.sample(5)"
   ]
  },
  {
   "cell_type": "code",
   "execution_count": 12,
   "metadata": {
    "collapsed": false
   },
   "outputs": [],
   "source": [
    "days = gpsdb_df.groupby('date_time_day')\n",
    "for day in days.groups:\n",
    "    path = '/home/jen/ace_trimble_gps_' + str(day) + '.csv'\n",
    "    days.get_group(day).to_csv(path, index=False)"
   ]
  },
  {
   "cell_type": "markdown",
   "metadata": {},
   "source": [
    "**GLONASS data**"
   ]
  },
  {
   "cell_type": "code",
   "execution_count": 14,
   "metadata": {
    "collapsed": false
   },
   "outputs": [
    {
     "name": "stdout",
     "output_type": "stream",
     "text": [
      "ace\n"
     ]
    }
   ],
   "source": [
    "query_glonass = 'select * from ship_data_gpggagpsfix where device_id=64;'\n",
    "\n",
    "password = input()\n"
   ]
  },
  {
   "cell_type": "code",
   "execution_count": 16,
   "metadata": {
    "collapsed": false
   },
   "outputs": [],
   "source": [
    "db_connection = MySQLdb.connect(host = 'localhost', user = 'ace', passwd = password, db = 'ace2016', port = 3306); \n",
    "\n",
    "glonassdb_df = get_data_from_database(query_glonass, db_connection)"
   ]
  },
  {
   "cell_type": "markdown",
   "metadata": {},
   "source": [
    "Preview data"
   ]
  },
  {
   "cell_type": "code",
   "execution_count": 17,
   "metadata": {
    "collapsed": false
   },
   "outputs": [
    {
     "data": {
      "text/html": [
       "<div>\n",
       "<style scoped>\n",
       "    .dataframe tbody tr th:only-of-type {\n",
       "        vertical-align: middle;\n",
       "    }\n",
       "\n",
       "    .dataframe tbody tr th {\n",
       "        vertical-align: top;\n",
       "    }\n",
       "\n",
       "    .dataframe thead th {\n",
       "        text-align: right;\n",
       "    }\n",
       "</style>\n",
       "<table border=\"1\" class=\"dataframe\">\n",
       "  <thead>\n",
       "    <tr style=\"text-align: right;\">\n",
       "      <th></th>\n",
       "      <th>id</th>\n",
       "      <th>date_time</th>\n",
       "      <th>latitude</th>\n",
       "      <th>longitude</th>\n",
       "      <th>fix_quality</th>\n",
       "      <th>number_satellites</th>\n",
       "      <th>horiz_dilution_of_position</th>\n",
       "      <th>altitude</th>\n",
       "      <th>altitude_units</th>\n",
       "      <th>geoid_height</th>\n",
       "      <th>geoid_height_units</th>\n",
       "      <th>device_id</th>\n",
       "      <th>measureland_qualifier_flags_id</th>\n",
       "    </tr>\n",
       "  </thead>\n",
       "  <tbody>\n",
       "    <tr>\n",
       "      <th>7615906</th>\n",
       "      <td>15084612</td>\n",
       "      <td>2017-03-26 20:40:07</td>\n",
       "      <td>-15.253748</td>\n",
       "      <td>2.150695</td>\n",
       "      <td>1</td>\n",
       "      <td>13</td>\n",
       "      <td>0.8</td>\n",
       "      <td>34.5</td>\n",
       "      <td>M</td>\n",
       "      <td>None</td>\n",
       "      <td>None</td>\n",
       "      <td>64</td>\n",
       "      <td>1</td>\n",
       "    </tr>\n",
       "    <tr>\n",
       "      <th>5408442</th>\n",
       "      <td>11020078</td>\n",
       "      <td>2017-03-01 00:01:28</td>\n",
       "      <td>-54.755027</td>\n",
       "      <td>-47.185468</td>\n",
       "      <td>1</td>\n",
       "      <td>17</td>\n",
       "      <td>0.7</td>\n",
       "      <td>39.7</td>\n",
       "      <td>M</td>\n",
       "      <td>None</td>\n",
       "      <td>None</td>\n",
       "      <td>64</td>\n",
       "      <td>3</td>\n",
       "    </tr>\n",
       "    <tr>\n",
       "      <th>8312843</th>\n",
       "      <td>16199084</td>\n",
       "      <td>2017-04-03 22:21:25</td>\n",
       "      <td>22.433898</td>\n",
       "      <td>-18.609152</td>\n",
       "      <td>1</td>\n",
       "      <td>5</td>\n",
       "      <td>1.8</td>\n",
       "      <td>32.2</td>\n",
       "      <td>M</td>\n",
       "      <td>None</td>\n",
       "      <td>None</td>\n",
       "      <td>64</td>\n",
       "      <td>1</td>\n",
       "    </tr>\n",
       "    <tr>\n",
       "      <th>5717819</th>\n",
       "      <td>11660496</td>\n",
       "      <td>2017-03-04 19:58:40</td>\n",
       "      <td>-53.991797</td>\n",
       "      <td>-35.570437</td>\n",
       "      <td>1</td>\n",
       "      <td>16</td>\n",
       "      <td>0.7</td>\n",
       "      <td>38.0</td>\n",
       "      <td>M</td>\n",
       "      <td>None</td>\n",
       "      <td>None</td>\n",
       "      <td>64</td>\n",
       "      <td>3</td>\n",
       "    </tr>\n",
       "    <tr>\n",
       "      <th>6646341</th>\n",
       "      <td>13519899</td>\n",
       "      <td>2017-03-15 15:14:54</td>\n",
       "      <td>-46.634363</td>\n",
       "      <td>12.000447</td>\n",
       "      <td>1</td>\n",
       "      <td>14</td>\n",
       "      <td>0.8</td>\n",
       "      <td>33.3</td>\n",
       "      <td>M</td>\n",
       "      <td>None</td>\n",
       "      <td>None</td>\n",
       "      <td>64</td>\n",
       "      <td>3</td>\n",
       "    </tr>\n",
       "  </tbody>\n",
       "</table>\n",
       "</div>"
      ],
      "text/plain": [
       "               id           date_time   latitude  longitude  fix_quality  \\\n",
       "7615906  15084612 2017-03-26 20:40:07 -15.253748   2.150695            1   \n",
       "5408442  11020078 2017-03-01 00:01:28 -54.755027 -47.185468            1   \n",
       "8312843  16199084 2017-04-03 22:21:25  22.433898 -18.609152            1   \n",
       "5717819  11660496 2017-03-04 19:58:40 -53.991797 -35.570437            1   \n",
       "6646341  13519899 2017-03-15 15:14:54 -46.634363  12.000447            1   \n",
       "\n",
       "         number_satellites  horiz_dilution_of_position  altitude  \\\n",
       "7615906                 13                         0.8      34.5   \n",
       "5408442                 17                         0.7      39.7   \n",
       "8312843                  5                         1.8      32.2   \n",
       "5717819                 16                         0.7      38.0   \n",
       "6646341                 14                         0.8      33.3   \n",
       "\n",
       "        altitude_units geoid_height geoid_height_units  device_id  \\\n",
       "7615906              M         None               None         64   \n",
       "5408442              M         None               None         64   \n",
       "8312843              M         None               None         64   \n",
       "5717819              M         None               None         64   \n",
       "6646341              M         None               None         64   \n",
       "\n",
       "         measureland_qualifier_flags_id  \n",
       "7615906                               1  \n",
       "5408442                               3  \n",
       "8312843                               1  \n",
       "5717819                               3  \n",
       "6646341                               3  "
      ]
     },
     "execution_count": 17,
     "metadata": {},
     "output_type": "execute_result"
    }
   ],
   "source": [
    "glonassdb_df.sample(5)"
   ]
  },
  {
   "cell_type": "markdown",
   "metadata": {},
   "source": [
    "Number of data points output"
   ]
  },
  {
   "cell_type": "code",
   "execution_count": 18,
   "metadata": {
    "collapsed": false
   },
   "outputs": [
    {
     "data": {
      "text/plain": [
       "8972559"
      ]
     },
     "execution_count": 18,
     "metadata": {},
     "output_type": "execute_result"
    }
   ],
   "source": [
    "len(glonassdb_df)"
   ]
  },
  {
   "cell_type": "markdown",
   "metadata": {},
   "source": [
    "Dates and times covered by the GLONASS data set: "
   ]
  },
  {
   "cell_type": "code",
   "execution_count": 19,
   "metadata": {
    "collapsed": false
   },
   "outputs": [
    {
     "name": "stdout",
     "output_type": "stream",
     "text": [
      "Start date: 2016-12-27 13:37:33\n",
      "End date: 2017-04-11 15:56:16\n"
     ]
    }
   ],
   "source": [
    "print(\"Start date:\", glonassdb_df['date_time'].min())\n",
    "print(\"End date:\", glonassdb_df['date_time'].max())"
   ]
  },
  {
   "cell_type": "markdown",
   "metadata": {},
   "source": [
    "Output the data into monthly files (to be able to plot them to visually screen the obvious outliers)."
   ]
  },
  {
   "cell_type": "code",
   "execution_count": 20,
   "metadata": {
    "collapsed": true
   },
   "outputs": [],
   "source": [
    "glonassdb_df['date_time_day'] = glonassdb_df['date_time'].dt.strftime('%Y-%m-%d')"
   ]
  },
  {
   "cell_type": "code",
   "execution_count": 21,
   "metadata": {
    "collapsed": false
   },
   "outputs": [
    {
     "data": {
      "text/html": [
       "<div>\n",
       "<style scoped>\n",
       "    .dataframe tbody tr th:only-of-type {\n",
       "        vertical-align: middle;\n",
       "    }\n",
       "\n",
       "    .dataframe tbody tr th {\n",
       "        vertical-align: top;\n",
       "    }\n",
       "\n",
       "    .dataframe thead th {\n",
       "        text-align: right;\n",
       "    }\n",
       "</style>\n",
       "<table border=\"1\" class=\"dataframe\">\n",
       "  <thead>\n",
       "    <tr style=\"text-align: right;\">\n",
       "      <th></th>\n",
       "      <th>id</th>\n",
       "      <th>date_time</th>\n",
       "      <th>latitude</th>\n",
       "      <th>longitude</th>\n",
       "      <th>fix_quality</th>\n",
       "      <th>number_satellites</th>\n",
       "      <th>horiz_dilution_of_position</th>\n",
       "      <th>altitude</th>\n",
       "      <th>altitude_units</th>\n",
       "      <th>geoid_height</th>\n",
       "      <th>geoid_height_units</th>\n",
       "      <th>device_id</th>\n",
       "      <th>measureland_qualifier_flags_id</th>\n",
       "      <th>date_time_day</th>\n",
       "    </tr>\n",
       "  </thead>\n",
       "  <tbody>\n",
       "    <tr>\n",
       "      <th>7098871</th>\n",
       "      <td>14274721</td>\n",
       "      <td>2017-03-20 21:02:22</td>\n",
       "      <td>-33.903903</td>\n",
       "      <td>18.423688</td>\n",
       "      <td>1</td>\n",
       "      <td>12</td>\n",
       "      <td>0.9</td>\n",
       "      <td>34.1</td>\n",
       "      <td>M</td>\n",
       "      <td>None</td>\n",
       "      <td>None</td>\n",
       "      <td>64</td>\n",
       "      <td>1</td>\n",
       "      <td>2017-03-20</td>\n",
       "    </tr>\n",
       "    <tr>\n",
       "      <th>965329</th>\n",
       "      <td>2414430</td>\n",
       "      <td>2017-01-07 20:39:34</td>\n",
       "      <td>-51.771817</td>\n",
       "      <td>72.402073</td>\n",
       "      <td>1</td>\n",
       "      <td>14</td>\n",
       "      <td>0.9</td>\n",
       "      <td>31.0</td>\n",
       "      <td>M</td>\n",
       "      <td>None</td>\n",
       "      <td>None</td>\n",
       "      <td>64</td>\n",
       "      <td>3</td>\n",
       "      <td>2017-01-07</td>\n",
       "    </tr>\n",
       "    <tr>\n",
       "      <th>1872106</th>\n",
       "      <td>4246844</td>\n",
       "      <td>2017-01-18 13:50:02</td>\n",
       "      <td>-43.877770</td>\n",
       "      <td>147.666470</td>\n",
       "      <td>1</td>\n",
       "      <td>9</td>\n",
       "      <td>1.5</td>\n",
       "      <td>32.1</td>\n",
       "      <td>M</td>\n",
       "      <td>None</td>\n",
       "      <td>None</td>\n",
       "      <td>64</td>\n",
       "      <td>3</td>\n",
       "      <td>2017-01-18</td>\n",
       "    </tr>\n",
       "    <tr>\n",
       "      <th>4774242</th>\n",
       "      <td>9525650</td>\n",
       "      <td>2017-02-21 15:49:04</td>\n",
       "      <td>-54.996963</td>\n",
       "      <td>-71.844245</td>\n",
       "      <td>1</td>\n",
       "      <td>15</td>\n",
       "      <td>0.7</td>\n",
       "      <td>34.1</td>\n",
       "      <td>M</td>\n",
       "      <td>None</td>\n",
       "      <td>None</td>\n",
       "      <td>64</td>\n",
       "      <td>3</td>\n",
       "      <td>2017-02-21</td>\n",
       "    </tr>\n",
       "    <tr>\n",
       "      <th>168987</th>\n",
       "      <td>821067</td>\n",
       "      <td>2016-12-29 12:55:13</td>\n",
       "      <td>-46.378937</td>\n",
       "      <td>43.771642</td>\n",
       "      <td>1</td>\n",
       "      <td>15</td>\n",
       "      <td>0.9</td>\n",
       "      <td>34.6</td>\n",
       "      <td>M</td>\n",
       "      <td>None</td>\n",
       "      <td>None</td>\n",
       "      <td>64</td>\n",
       "      <td>3</td>\n",
       "      <td>2016-12-29</td>\n",
       "    </tr>\n",
       "  </tbody>\n",
       "</table>\n",
       "</div>"
      ],
      "text/plain": [
       "               id           date_time   latitude   longitude  fix_quality  \\\n",
       "7098871  14274721 2017-03-20 21:02:22 -33.903903   18.423688            1   \n",
       "965329    2414430 2017-01-07 20:39:34 -51.771817   72.402073            1   \n",
       "1872106   4246844 2017-01-18 13:50:02 -43.877770  147.666470            1   \n",
       "4774242   9525650 2017-02-21 15:49:04 -54.996963  -71.844245            1   \n",
       "168987     821067 2016-12-29 12:55:13 -46.378937   43.771642            1   \n",
       "\n",
       "         number_satellites  horiz_dilution_of_position  altitude  \\\n",
       "7098871                 12                         0.9      34.1   \n",
       "965329                  14                         0.9      31.0   \n",
       "1872106                  9                         1.5      32.1   \n",
       "4774242                 15                         0.7      34.1   \n",
       "168987                  15                         0.9      34.6   \n",
       "\n",
       "        altitude_units geoid_height geoid_height_units  device_id  \\\n",
       "7098871              M         None               None         64   \n",
       "965329               M         None               None         64   \n",
       "1872106              M         None               None         64   \n",
       "4774242              M         None               None         64   \n",
       "168987               M         None               None         64   \n",
       "\n",
       "         measureland_qualifier_flags_id date_time_day  \n",
       "7098871                               1    2017-03-20  \n",
       "965329                                3    2017-01-07  \n",
       "1872106                               3    2017-01-18  \n",
       "4774242                               3    2017-02-21  \n",
       "168987                                3    2016-12-29  "
      ]
     },
     "execution_count": 21,
     "metadata": {},
     "output_type": "execute_result"
    }
   ],
   "source": [
    "glonassdb_df.sample(5)"
   ]
  },
  {
   "cell_type": "code",
   "execution_count": 22,
   "metadata": {
    "collapsed": true
   },
   "outputs": [],
   "source": [
    "days = glonassdb_df.groupby('date_time_day')\n",
    "for day in days.groups:\n",
    "    path = '/home/jen/ace_glonass_' + str(day) + '.csv'\n",
    "    days.get_group(day).to_csv(path, index=False)"
   ]
  },
  {
   "cell_type": "markdown",
   "metadata": {},
   "source": [
    "### STEP 2 - Visual inspection"
   ]
  },
  {
   "cell_type": "markdown",
   "metadata": {},
   "source": [
    "### Trimble GPS"
   ]
  },
  {
   "cell_type": "markdown",
   "metadata": {},
   "source": [
    "Data in the form of the daily csv files, were imported into QGIS mapping software in order to manually visually inspect the data points. This was done at a resolution of 1:100,000.\n",
    "\n",
    "There were no obvious outlying points. \n",
    "Number of points flagged as outliers: 0\n",
    "\n",
    "The following sections were identified as unusual and have been classified in the table below: \n",
    "| Start date and time (UTC) | End date and time (UTC) | Potential problem |\n",
    "|---------|-----------|----------|\n",
    "| 2016-12-21 10:15:46.620 | 2016-12-21 10:16:35.620 | Overlapping track |\n",
    "| 2016-12-21 07:37:16.470 | 2016-12-21 07:40:02.470 | Overlapping track |\n",
    "| 2016-12-22 04:43:10.010 | 2016-12-22 04:43:14.010 | Overlapping track |\n",
    "| 2016-12-22 09:38:40.270 | 2016-12-22 09:38:41.270 | Strange gap |\n",
    "| 2016-12-23 00:15:22.060 | 2016-12-23 00:15:33.060 | Overlapping track |\n",
    "| 2016-12-23 04:57:57.310 | 2016-12-23 04:57:58.310 | Large gap |\n",
    "| 2016-12-23 05:05:05.310 | 2016-12-23 05:11:43.540 | Overlapping track |\n",
    "| 2016-12-23 05:30:01.560 | 2016-12-23 05:30:04.560 | Large gap |\n",
    "| 2016-12-25 06:04:50.900 | 2016-12-25 06:09:52.980 | Overlapping track |\n",
    "| 2016-12-29 12:57:59.390 | 2016-12-29 14:57:34.730 | Strange diversion |\n",
    "| 2016-12-30 04:53:24.840 | 2016-12-30 08:51:12.670 | Strange diversion, missing data |\n",
    "| 2016-12-31 00:51:37.580 | 2016-12-31 00:51:39.580 | |\n",
    "| 2017-01-01 11:54:29.820 | 2017-01-01 11:54:41.820 | Overlapping track |\n",
    "| 2017-01-01 22:51:51.680 | 2017-01-01 22:54:41.700 | Strange deflection |\n",
    "| 2017-01-01 22:56:05.700 | 2017-01-01 22:59:57.700 | Strange deflection |\n",
    "| 2017-01-04 00:34:30.360 | 2017-01-04 00:34:33.360 | Large move |\n",
    "| 2017-01-13 08:26:40.850 | 2017-01-13 08:30:36.840 | Strange deflection |\n",
    "| 2017-03-11 06:47:22.300 | 2017-03-11 08:21:40.970 | Strange deflection |\n",
    "| 2017-03-16 17:51:36.490 | 2017-03-16 18:12:21.470 | Gap with jump |\n",
    "| 2017-03-17 15:29:07.620 | 2017-03-17 15:29:10.620 | Gap with jump |\n",
    "| 2017-03-18 04:07:31.290 | 2017-03-18 04:07:32.290 | Gap with jump |\n",
    "| 2017-03-18 12:43:22.100 | 2017-03-18 12:43:42.100 | Overlapping track |\n",
    "| 2017-03-18 13:01:04.100 | 2017-03-18 19:09:28.440 | Large gap with large time difference |\n",
    "| 2017-03-24 10:13:24.720 | 2017-03-24 10:13:25.720 | Gap with jump |\n",
    "| 2017-03-25 10:07:08.990 | 2017-03-25 10:07:15.990 | Gap with jump |\n",
    "| 2017-03-26 22:25:49.940 | 2017-03-26 22:25:50.940 | Gap with jump |\n",
    "These points have not been flagged but will be returned to later on in the processing. "
   ]
  },
  {
   "cell_type": "markdown",
   "metadata": {},
   "source": [
    "### GLONASS"
   ]
  },
  {
   "cell_type": "markdown",
   "metadata": {},
   "source": [
    "Data in the form of the daily csv files, were imported into QGIS mapping software in order to manually visually inspect the data points. This was done at a resolution of 1:100,000.\n",
    "\n",
    "There were no obvious outlying points. \n",
    "Number of points flagged as outliers: 0\n",
    "    \n",
    "The following sections were identified as unusual and have been classified in the table below: \n",
    "| Start date and time (UTC) | End date and time (UTC) | Potential problem |\n",
    "|---------|-----------|----------|\n",
    "| 2017-04-06 15:26:30 | 2017-04-06 15:26:32 | Gap with jump |\n",
    "| 2017-04-06 18:22:07 | 2017-04-06 18:22:09 | Gap with jump |\n",
    "| 2017-04-06 21:41:21 | 2017-04-06 21:41:45 | Strange deflection |\n",
    "| 2017-04-07 15:25:06 | 2017-04-07 15:25:13 | Strange deflection |\n",
    "| 2017-04-08 04:12:44 | 2017-04-08 04:13:27 | Strange deflection |\n",
    "| 2017-04-08 05:01:34 | 2017-04-08 05:01:49 | Strange deflection |\n",
    "| 2017-04-08 18:42:12 | 2017-04-08 18:43:04 | Strange deflection |\n",
    "| 2017-04-08 18:56:02 | 2017-04-08 18:57:27 | Strange deflection |\n",
    "| 2017-04-08 19:00:26 | 2017-04-08 19:01:03 | Strange deflection |\n",
    "| 2017-04-08 19:05:31 | 2017-04-08 19:05:46 | Strange deflection |\n",
    "| 2017-04-10 02:43:40 | 2017-04-10 02:44:25 | Strange deflection |"
   ]
  },
  {
   "cell_type": "markdown",
   "metadata": {},
   "source": [
    "### STEP 3 - Motion data correction"
   ]
  },
  {
   "cell_type": "markdown",
   "metadata": {},
   "source": [
    "### STEP 4 - Automated data filtering"
   ]
  },
  {
   "cell_type": "markdown",
   "metadata": {},
   "source": [
    "Each data point will be compared with the one before and after to automatically filter out points that are out of the conceivable range of the ship's movement.'\n",
    "\n",
    "The second of two consecutive points to be flagged as \"likely incorrect\" when any of the following cases occur: \n",
    "    - speed between two points >= 20 knots\n",
    "    - acceleration between two points >= 1 ms^-2\n",
    "    - direction between two points >= 5 degrees"
   ]
  },
  {
   "cell_type": "code",
   "execution_count": 23,
   "metadata": {
    "collapsed": false
   },
   "outputs": [
    {
     "data": {
      "text/plain": [
       "-39.3727467853333"
      ]
     },
     "execution_count": 23,
     "metadata": {},
     "output_type": "execute_result"
    }
   ],
   "source": [
    "datetime = \"2017-03-17 11:34:26.410\"\n",
    "gpsdb_df[gpsdb_df.date_time == datetime].latitude.item()"
   ]
  },
  {
   "cell_type": "code",
   "execution_count": 7,
   "metadata": {
    "collapsed": true
   },
   "outputs": [],
   "source": [
    "def get_location(datetime, position_df):\n",
    "    \"\"\"Create a tuple of the date_time, latitude and longitude of a location in a dataframe from a given date_time.\"\"\"\n",
    "    \n",
    "    latitude = position_df[position_df.date_time == datetime].latitude.item()\n",
    "    longitude = position_df[position_df.date_time == datetime].longitude.item()\n",
    "    \n",
    "    location = (datetime, latitude, longitude)\n",
    "    \n",
    "    return location"
   ]
  },
  {
   "cell_type": "code",
   "execution_count": 8,
   "metadata": {
    "collapsed": false
   },
   "outputs": [
    {
     "name": "stdout",
     "output_type": "stream",
     "text": [
      "('2017-03-17 11:34:27.410', -39.3726810455, 14.4918980598333)\n"
     ]
    }
   ],
   "source": [
    "datetime = \"2017-03-17 11:34:27.410\"\n",
    "position_df = gpsdb_df\n",
    "location = get_location(datetime, position_df)\n",
    "print(location)"
   ]
  },
  {
   "cell_type": "code",
   "execution_count": 9,
   "metadata": {
    "collapsed": false
   },
   "outputs": [],
   "source": [
    "def calculate_distance(origin, destination):\n",
    "    \"\"\"Calculate the haversine or great-circle distance between two points with latitudes and longitudes, where they are known as the origin and destination.\"\"\"\n",
    "    \n",
    "    datetime1, lat1, lon1 = origin\n",
    "    datetime2, lat2, lon2 = destination\n",
    "    radius = 6371  # km\n",
    "    \n",
    "    dlat = math.radians(lat2 - lat1)\n",
    "    dlon = math.radians(lon2 - lon1)\n",
    "    a = math.sin(dlat / 2) * math.sin(dlat / 2) + math.cos(math.radians(lat1)) \\\n",
    "                                                  * math.cos(math.radians(lat2)) * math.sin(dlon / 2) * math.sin(dlon / 2)\n",
    "    c = 2 * math.atan2(math.sqrt(a), math.sqrt(1 - a))\n",
    "    d = radius * c # Distance in km\n",
    "    d_m = d*1000 # Distance in metres\n",
    "    \n",
    "    return d_m"
   ]
  },
  {
   "cell_type": "code",
   "execution_count": 10,
   "metadata": {
    "collapsed": false
   },
   "outputs": [
    {
     "name": "stdout",
     "output_type": "stream",
     "text": [
      "Origin: ('2017-03-17 11:34:26.410', -39.3727467853333, 14.4918882686667)\n",
      "Destination: ('2017-03-17 11:34:27.410', -39.3726810455, 14.4918980598333)\n",
      "Distance: 7.358226506278989 m\n"
     ]
    }
   ],
   "source": [
    "origin_datetime = \"2017-03-17 11:34:26.410\"\n",
    "destination_datetime = \"2017-03-17 11:34:27.410\"\n",
    "position_df = gpsdb_df\n",
    "\n",
    "origin = get_location(origin_datetime, position_df)\n",
    "destination = get_location(destination_datetime, position_df)\n",
    "\n",
    "print(\"Origin:\", origin)\n",
    "print(\"Destination:\", destination)\n",
    "\n",
    "distance = calculate_distance(origin, destination)\n",
    "print(\"Distance:\", distance, \"m\")\n"
   ]
  },
  {
   "cell_type": "code",
   "execution_count": 14,
   "metadata": {
    "collapsed": false
   },
   "outputs": [],
   "source": [
    "def knots_two_points(location1, location2):\n",
    "    \"\"\"Calculate the speed in knots between two locations which are dictionaries containing latitude, longitude and date_time.\"\"\"\n",
    "    \n",
    "    distance = calculate_distance(location1, location2)\n",
    "    \n",
    "    datetime_str1, lat1, lon1 = origin\n",
    "    datetime_str2, lat2, lon2 = destination\n",
    "    \n",
    "    datetime1 = datetime.datetime.strptime(datetime_str1,\"%Y-%m-%d %H:%M:%S.%f\")\n",
    "    datetime2 = datetime.datetime.strptime(datetime_str2,\"%Y-%m-%d %H:%M:%S.%f\")\n",
    "    \n",
    "    seconds = abs((datetime1) - (datetime2)).total_seconds()\n",
    "    \n",
    "    conversion = 3600/1852 # convert 1 ms-1 to knots (nautical miles per hour; 1 nm = 1852 metres)\n",
    "    speed_knots = (distance/seconds) * conversion\n",
    "    \n",
    "    if seconds > 0:\n",
    "        return speed_knots\n",
    "    else:\n",
    "        return \"N/A\""
   ]
  },
  {
   "cell_type": "code",
   "execution_count": 15,
   "metadata": {
    "collapsed": false
   },
   "outputs": [
    {
     "name": "stdout",
     "output_type": "stream",
     "text": [
      "Speed:  14.303248068360885 knots\n"
     ]
    }
   ],
   "source": [
    "speed = knots_two_points(origin, destination)\n",
    "print(\"Speed: \", speed, \"knots\")"
   ]
  },
  {
   "cell_type": "code",
   "execution_count": 16,
   "metadata": {
    "collapsed": true
   },
   "outputs": [],
   "source": [
    "def set_utc(date_time):\n",
    "    utc = datetime.timezone(datetime.timedelta(0))\n",
    "    date_time = date_time.replace(tzinfo=utc)\n",
    "    return date_time"
   ]
  },
  {
   "cell_type": "code",
   "execution_count": 18,
   "metadata": {
    "collapsed": false
   },
   "outputs": [],
   "source": [
    "positions = gpsdb_df[['date_time', 'latitude', 'longitude']]"
   ]
  },
  {
   "cell_type": "code",
   "execution_count": 73,
   "metadata": {
    "collapsed": false
   },
   "outputs": [
    {
     "data": {
      "text/html": [
       "<div>\n",
       "<style scoped>\n",
       "    .dataframe tbody tr th:only-of-type {\n",
       "        vertical-align: middle;\n",
       "    }\n",
       "\n",
       "    .dataframe tbody tr th {\n",
       "        vertical-align: top;\n",
       "    }\n",
       "\n",
       "    .dataframe thead th {\n",
       "        text-align: right;\n",
       "    }\n",
       "</style>\n",
       "<table border=\"1\" class=\"dataframe\">\n",
       "  <thead>\n",
       "    <tr style=\"text-align: right;\">\n",
       "      <th></th>\n",
       "      <th>date_time</th>\n",
       "      <th>latitude</th>\n",
       "      <th>longitude</th>\n",
       "    </tr>\n",
       "  </thead>\n",
       "  <tbody>\n",
       "    <tr>\n",
       "      <th>4692087</th>\n",
       "      <td>2017-02-18 08:41:21.380</td>\n",
       "      <td>-62.746135</td>\n",
       "      <td>-67.715554</td>\n",
       "    </tr>\n",
       "    <tr>\n",
       "      <th>8244816</th>\n",
       "      <td>2017-04-07 22:18:14.220</td>\n",
       "      <td>43.212567</td>\n",
       "      <td>-10.691001</td>\n",
       "    </tr>\n",
       "    <tr>\n",
       "      <th>1210227</th>\n",
       "      <td>2017-01-05 02:27:16.750</td>\n",
       "      <td>-49.375430</td>\n",
       "      <td>70.075963</td>\n",
       "    </tr>\n",
       "    <tr>\n",
       "      <th>2419158</th>\n",
       "      <td>2017-01-23 01:03:12.470</td>\n",
       "      <td>-45.370532</td>\n",
       "      <td>149.479658</td>\n",
       "    </tr>\n",
       "    <tr>\n",
       "      <th>5917459</th>\n",
       "      <td>2017-03-04 13:08:35.580</td>\n",
       "      <td>-54.435569</td>\n",
       "      <td>-36.135725</td>\n",
       "    </tr>\n",
       "  </tbody>\n",
       "</table>\n",
       "</div>"
      ],
      "text/plain": [
       "                      date_time   latitude   longitude\n",
       "4692087 2017-02-18 08:41:21.380 -62.746135  -67.715554\n",
       "8244816 2017-04-07 22:18:14.220  43.212567  -10.691001\n",
       "1210227 2017-01-05 02:27:16.750 -49.375430   70.075963\n",
       "2419158 2017-01-23 01:03:12.470 -45.370532  149.479658\n",
       "5917459 2017-03-04 13:08:35.580 -54.435569  -36.135725"
      ]
     },
     "execution_count": 73,
     "metadata": {},
     "output_type": "execute_result"
    }
   ],
   "source": [
    "positions.sample(5)"
   ]
  },
  {
   "cell_type": "code",
   "execution_count": 71,
   "metadata": {
    "collapsed": true
   },
   "outputs": [],
   "source": [
    "df_test = gpsdb_df.head(1000)"
   ]
  },
  {
   "cell_type": "code",
   "execution_count": 106,
   "metadata": {
    "collapsed": false
   },
   "outputs": [],
   "source": [
    "def analyse(position_df):\n",
    "    earliest_date_time = position_df['date_time'].min()\n",
    "    latest_date_time = position_df['date_time'].max()\n",
    "\n",
    "    current_date = earliest_date_time\n",
    "\n",
    "    count = 0\n",
    "    previous_position = get_location(earliest_date_time, position_df)\n",
    "    datetime_previous, latitude_previous, longitude_previous = previous_position\n",
    "    \n",
    "    positions = position_df[['date_time', 'latitude', 'longitude']]\n",
    "    positions.sample(5)\n",
    "        \n",
    "    for position in positions.itertuples():\n",
    "        index, date_time, latitude, longitude = position\n",
    "\n",
    "        current_position = position[1:]\n",
    "\n",
    "        speed_knots = knots_two_points(previous_position, current_position)\n",
    "\n",
    "        error_message = \"\"\n",
    "\n",
    "        if speed_knots == \"N/A\":\n",
    "            error_message = \"No speed?\"\n",
    "        elif speed_knots >= 20:\n",
    "            error_message += \"**** Too fast ****\"\n",
    "\n",
    "        if error_message != \"\":\n",
    "            print(\"Error: \", error_message)\n",
    "            print(\"{}   ({:.4f}, {:.4f})    {} knots\".format(current_position[0], current_position[1], current_position[2], speed_knots))\n",
    "\n",
    "        previous_position = current_position"
   ]
  },
  {
   "cell_type": "code",
   "execution_count": 107,
   "metadata": {
    "collapsed": false
   },
   "outputs": [],
   "source": [
    "analyse(df_test)"
   ]
  },
  {
   "cell_type": "code",
   "execution_count": null,
   "metadata": {
    "collapsed": true
   },
   "outputs": [],
   "source": []
  }
 ],
 "metadata": {
  "kernelspec": {
   "display_name": "Python 3",
   "language": "python",
   "name": "python3"
  },
  "language_info": {
   "codemirror_mode": {
    "name": "ipython",
    "version": 3
   },
   "file_extension": ".py",
   "mimetype": "text/x-python",
   "name": "python",
   "nbconvert_exporter": "python",
   "pygments_lexer": "ipython3",
   "version": "3.5.3"
  }
 },
 "nbformat": 4,
 "nbformat_minor": 2
}
