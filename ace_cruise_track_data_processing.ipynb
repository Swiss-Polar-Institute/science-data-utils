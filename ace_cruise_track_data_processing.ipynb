{
 "cells": [
  {
   "cell_type": "markdown",
   "metadata": {},
   "source": [
    "# Antarctic Circumnavigation Expedition Cruise Track data processing"
   ]
  },
  {
   "cell_type": "markdown",
   "metadata": {},
   "source": [
    "## GLONASS and Trimble GPS data"
   ]
  },
  {
   "cell_type": "markdown",
   "metadata": {},
   "source": [
    "Follow the steps as described here: http://epic.awi.de/48174/"
   ]
  },
  {
   "cell_type": "markdown",
   "metadata": {},
   "source": [
    "Import relevant packages"
   ]
  },
  {
   "cell_type": "code",
   "execution_count": 108,
   "metadata": {
    "collapsed": false
   },
   "outputs": [],
   "source": [
    "import pandas as pd\n",
    "import csv\n",
    "import MySQLdb\n",
    "import datetime\n",
    "import math"
   ]
  },
  {
   "cell_type": "markdown",
   "metadata": {},
   "source": [
    "### STEP 1 - Extract data from database"
   ]
  },
  {
   "cell_type": "markdown",
   "metadata": {},
   "source": [
    "Import data from a database table into a dataframe"
   ]
  },
  {
   "cell_type": "code",
   "execution_count": 109,
   "metadata": {
    "collapsed": true
   },
   "outputs": [],
   "source": [
    "def get_data_from_database(query, db_connection):\n",
    "    \n",
    "    dataframe = pd.read_sql(query, con=db_connection)\n",
    "\n",
    "    return dataframe"
   ]
  },
  {
   "cell_type": "markdown",
   "metadata": {},
   "source": [
    "**GPS data**"
   ]
  },
  {
   "cell_type": "code",
   "execution_count": 110,
   "metadata": {
    "collapsed": false
   },
   "outputs": [
    {
     "name": "stdout",
     "output_type": "stream",
     "text": [
      "ace\n"
     ]
    }
   ],
   "source": [
    "query_trimble = 'select * from ship_data_gpggagpsfix where device_id=63;'\n",
    "password = input()"
   ]
  },
  {
   "cell_type": "code",
   "execution_count": 111,
   "metadata": {
    "collapsed": true
   },
   "outputs": [],
   "source": [
    "db_connection = MySQLdb.connect(host = 'localhost', user = 'ace', passwd = password, db = 'ace2016', port = 3306); \n",
    "\n",
    "gpsdb_df = get_data_from_database(query_trimble, db_connection)\n",
    "#gpsdb_df_opt = optimise_dataframe(gpsdb_df_opt)"
   ]
  },
  {
   "cell_type": "markdown",
   "metadata": {},
   "source": [
    "Preview data"
   ]
  },
  {
   "cell_type": "code",
   "execution_count": 112,
   "metadata": {
    "collapsed": false
   },
   "outputs": [
    {
     "data": {
      "text/html": [
       "<div>\n",
       "<style scoped>\n",
       "    .dataframe tbody tr th:only-of-type {\n",
       "        vertical-align: middle;\n",
       "    }\n",
       "\n",
       "    .dataframe tbody tr th {\n",
       "        vertical-align: top;\n",
       "    }\n",
       "\n",
       "    .dataframe thead th {\n",
       "        text-align: right;\n",
       "    }\n",
       "</style>\n",
       "<table border=\"1\" class=\"dataframe\">\n",
       "  <thead>\n",
       "    <tr style=\"text-align: right;\">\n",
       "      <th></th>\n",
       "      <th>id</th>\n",
       "      <th>date_time</th>\n",
       "      <th>latitude</th>\n",
       "      <th>longitude</th>\n",
       "      <th>fix_quality</th>\n",
       "      <th>number_satellites</th>\n",
       "      <th>horiz_dilution_of_position</th>\n",
       "      <th>altitude</th>\n",
       "      <th>altitude_units</th>\n",
       "      <th>geoid_height</th>\n",
       "      <th>geoid_height_units</th>\n",
       "      <th>device_id</th>\n",
       "      <th>measureland_qualifier_flags_id</th>\n",
       "    </tr>\n",
       "  </thead>\n",
       "  <tbody>\n",
       "    <tr>\n",
       "      <th>6916178</th>\n",
       "      <td>13609070</td>\n",
       "      <td>2017-03-16 03:15:48.100</td>\n",
       "      <td>-44.399232</td>\n",
       "      <td>14.101791</td>\n",
       "      <td>5</td>\n",
       "      <td>7</td>\n",
       "      <td>0.128</td>\n",
       "      <td>-2.663</td>\n",
       "      <td>M</td>\n",
       "      <td>28.284</td>\n",
       "      <td>M</td>\n",
       "      <td>63</td>\n",
       "      <td>1</td>\n",
       "    </tr>\n",
       "    <tr>\n",
       "      <th>484650</th>\n",
       "      <td>537781</td>\n",
       "      <td>2016-12-27 14:32:21.120</td>\n",
       "      <td>-46.875541</td>\n",
       "      <td>37.868421</td>\n",
       "      <td>5</td>\n",
       "      <td>8</td>\n",
       "      <td>0.128</td>\n",
       "      <td>3996.694</td>\n",
       "      <td>M</td>\n",
       "      <td>42.907</td>\n",
       "      <td>M</td>\n",
       "      <td>63</td>\n",
       "      <td>1</td>\n",
       "    </tr>\n",
       "    <tr>\n",
       "      <th>6691522</th>\n",
       "      <td>13161855</td>\n",
       "      <td>2017-03-13 12:50:34.730</td>\n",
       "      <td>-54.396102</td>\n",
       "      <td>3.553809</td>\n",
       "      <td>5</td>\n",
       "      <td>7</td>\n",
       "      <td>0.128</td>\n",
       "      <td>3.727</td>\n",
       "      <td>M</td>\n",
       "      <td>21.836</td>\n",
       "      <td>M</td>\n",
       "      <td>63</td>\n",
       "      <td>1</td>\n",
       "    </tr>\n",
       "    <tr>\n",
       "      <th>693748</th>\n",
       "      <td>930176</td>\n",
       "      <td>2016-12-30 02:54:17.380</td>\n",
       "      <td>-46.087131</td>\n",
       "      <td>48.566578</td>\n",
       "      <td>5</td>\n",
       "      <td>7</td>\n",
       "      <td>0.128</td>\n",
       "      <td>3058.520</td>\n",
       "      <td>M</td>\n",
       "      <td>43.604</td>\n",
       "      <td>M</td>\n",
       "      <td>63</td>\n",
       "      <td>1</td>\n",
       "    </tr>\n",
       "    <tr>\n",
       "      <th>6633153</th>\n",
       "      <td>13045059</td>\n",
       "      <td>2017-03-12 20:36:45.050</td>\n",
       "      <td>-54.421131</td>\n",
       "      <td>3.454300</td>\n",
       "      <td>5</td>\n",
       "      <td>10</td>\n",
       "      <td>0.128</td>\n",
       "      <td>5.660</td>\n",
       "      <td>M</td>\n",
       "      <td>21.781</td>\n",
       "      <td>M</td>\n",
       "      <td>63</td>\n",
       "      <td>1</td>\n",
       "    </tr>\n",
       "  </tbody>\n",
       "</table>\n",
       "</div>"
      ],
      "text/plain": [
       "               id               date_time   latitude  longitude  fix_quality  \\\n",
       "6916178  13609070 2017-03-16 03:15:48.100 -44.399232  14.101791            5   \n",
       "484650     537781 2016-12-27 14:32:21.120 -46.875541  37.868421            5   \n",
       "6691522  13161855 2017-03-13 12:50:34.730 -54.396102   3.553809            5   \n",
       "693748     930176 2016-12-30 02:54:17.380 -46.087131  48.566578            5   \n",
       "6633153  13045059 2017-03-12 20:36:45.050 -54.421131   3.454300            5   \n",
       "\n",
       "         number_satellites  horiz_dilution_of_position  altitude  \\\n",
       "6916178                  7                       0.128    -2.663   \n",
       "484650                   8                       0.128  3996.694   \n",
       "6691522                  7                       0.128     3.727   \n",
       "693748                   7                       0.128  3058.520   \n",
       "6633153                 10                       0.128     5.660   \n",
       "\n",
       "        altitude_units  geoid_height geoid_height_units  device_id  \\\n",
       "6916178              M        28.284                  M         63   \n",
       "484650               M        42.907                  M         63   \n",
       "6691522              M        21.836                  M         63   \n",
       "693748               M        43.604                  M         63   \n",
       "6633153              M        21.781                  M         63   \n",
       "\n",
       "         measureland_qualifier_flags_id  \n",
       "6916178                               1  \n",
       "484650                                1  \n",
       "6691522                               1  \n",
       "693748                                1  \n",
       "6633153                               1  "
      ]
     },
     "execution_count": 112,
     "metadata": {},
     "output_type": "execute_result"
    }
   ],
   "source": [
    "gpsdb_df.sample(5)"
   ]
  },
  {
   "cell_type": "markdown",
   "metadata": {},
   "source": [
    "Number of data points output"
   ]
  },
  {
   "cell_type": "code",
   "execution_count": null,
   "metadata": {
    "collapsed": false
   },
   "outputs": [],
   "source": [
    "len(gpsdb_df)"
   ]
  },
  {
   "cell_type": "markdown",
   "metadata": {},
   "source": [
    "Dates and times covered by the Trimble data set: "
   ]
  },
  {
   "cell_type": "code",
   "execution_count": null,
   "metadata": {
    "collapsed": false
   },
   "outputs": [],
   "source": [
    "print(\"Start date:\", gpsdb_df['date_time'].min())\n",
    "print(\"End date:\", gpsdb_df['date_time'].max())"
   ]
  },
  {
   "cell_type": "markdown",
   "metadata": {},
   "source": [
    "Output the data into monthly files (to be able to plot them to visually screen the obvious outliers)."
   ]
  },
  {
   "cell_type": "code",
   "execution_count": null,
   "metadata": {
    "collapsed": false
   },
   "outputs": [],
   "source": [
    "gpsdb_df.dtypes"
   ]
  },
  {
   "cell_type": "code",
   "execution_count": null,
   "metadata": {
    "collapsed": false
   },
   "outputs": [],
   "source": [
    "gpsdb_df['date_time_day'] = gpsdb_df['date_time'].dt.strftime('%Y-%m-%d')"
   ]
  },
  {
   "cell_type": "code",
   "execution_count": null,
   "metadata": {
    "collapsed": false
   },
   "outputs": [],
   "source": [
    "gpsdb_df.sample(5)"
   ]
  },
  {
   "cell_type": "code",
   "execution_count": null,
   "metadata": {
    "collapsed": false
   },
   "outputs": [],
   "source": [
    "days = gpsdb_df.groupby('date_time_day')\n",
    "for day in days.groups:\n",
    "    path = '/home/jen/ace_trimble_gps_' + str(day) + '.csv'\n",
    "    days.get_group(day).to_csv(path, index=False)"
   ]
  },
  {
   "cell_type": "markdown",
   "metadata": {},
   "source": [
    "**GLONASS data**"
   ]
  },
  {
   "cell_type": "code",
   "execution_count": null,
   "metadata": {
    "collapsed": false
   },
   "outputs": [],
   "source": [
    "query_glonass = 'select * from ship_data_gpggagpsfix where device_id=64;'\n",
    "\n",
    "password = input()\n"
   ]
  },
  {
   "cell_type": "code",
   "execution_count": null,
   "metadata": {
    "collapsed": false
   },
   "outputs": [],
   "source": [
    "db_connection = MySQLdb.connect(host = 'localhost', user = 'ace', passwd = password, db = 'ace2016', port = 3306); \n",
    "\n",
    "glonassdb_df = get_data_from_database(query_glonass, db_connection)"
   ]
  },
  {
   "cell_type": "markdown",
   "metadata": {},
   "source": [
    "Preview data"
   ]
  },
  {
   "cell_type": "code",
   "execution_count": null,
   "metadata": {
    "collapsed": false
   },
   "outputs": [],
   "source": [
    "glonassdb_df.sample(5)"
   ]
  },
  {
   "cell_type": "markdown",
   "metadata": {},
   "source": [
    "Number of data points output"
   ]
  },
  {
   "cell_type": "code",
   "execution_count": null,
   "metadata": {
    "collapsed": false
   },
   "outputs": [],
   "source": [
    "len(glonassdb_df)"
   ]
  },
  {
   "cell_type": "markdown",
   "metadata": {},
   "source": [
    "Dates and times covered by the GLONASS data set: "
   ]
  },
  {
   "cell_type": "code",
   "execution_count": null,
   "metadata": {
    "collapsed": false
   },
   "outputs": [],
   "source": [
    "print(\"Start date:\", glonassdb_df['date_time'].min())\n",
    "print(\"End date:\", glonassdb_df['date_time'].max())"
   ]
  },
  {
   "cell_type": "markdown",
   "metadata": {},
   "source": [
    "Output the data into monthly files (to be able to plot them to visually screen the obvious outliers)."
   ]
  },
  {
   "cell_type": "code",
   "execution_count": null,
   "metadata": {
    "collapsed": true
   },
   "outputs": [],
   "source": [
    "glonassdb_df['date_time_day'] = glonassdb_df['date_time'].dt.strftime('%Y-%m-%d')"
   ]
  },
  {
   "cell_type": "code",
   "execution_count": null,
   "metadata": {
    "collapsed": false
   },
   "outputs": [],
   "source": [
    "glonassdb_df.sample(5)"
   ]
  },
  {
   "cell_type": "code",
   "execution_count": null,
   "metadata": {
    "collapsed": true
   },
   "outputs": [],
   "source": [
    "days = glonassdb_df.groupby('date_time_day')\n",
    "for day in days.groups:\n",
    "    path = '/home/jen/ace_glonass_' + str(day) + '.csv'\n",
    "    days.get_group(day).to_csv(path, index=False)"
   ]
  },
  {
   "cell_type": "markdown",
   "metadata": {},
   "source": [
    "### STEP 2 - Visual inspection"
   ]
  },
  {
   "cell_type": "markdown",
   "metadata": {},
   "source": [
    "### Trimble GPS"
   ]
  },
  {
   "cell_type": "markdown",
   "metadata": {},
   "source": [
    "Data in the form of the daily csv files, were imported into QGIS mapping software in order to manually visually inspect the data points. This was done at a resolution of 1:100,000.\n",
    "\n",
    "There were no obvious outlying points. \n",
    "Number of points flagged as outliers: 0\n",
    "\n",
    "The following sections were identified as unusual and have been classified in the table below: \n",
    "| Start date and time (UTC) | End date and time (UTC) | Potential problem |\n",
    "|---------|-----------|----------|\n",
    "| 2016-12-21 10:15:46.620 | 2016-12-21 10:16:35.620 | Overlapping track |\n",
    "| 2016-12-21 07:37:16.470 | 2016-12-21 07:40:02.470 | Overlapping track |\n",
    "| 2016-12-22 04:43:10.010 | 2016-12-22 04:43:14.010 | Overlapping track |\n",
    "| 2016-12-22 09:38:40.270 | 2016-12-22 09:38:41.270 | Strange gap |\n",
    "| 2016-12-23 00:15:22.060 | 2016-12-23 00:15:33.060 | Overlapping track |\n",
    "| 2016-12-23 04:57:57.310 | 2016-12-23 04:57:58.310 | Large gap |\n",
    "| 2016-12-23 05:05:05.310 | 2016-12-23 05:11:43.540 | Overlapping track |\n",
    "| 2016-12-23 05:30:01.560 | 2016-12-23 05:30:04.560 | Large gap |\n",
    "| 2016-12-25 06:04:50.900 | 2016-12-25 06:09:52.980 | Overlapping track |\n",
    "| 2016-12-29 12:57:59.390 | 2016-12-29 14:57:34.730 | Strange diversion |\n",
    "| 2016-12-30 04:53:24.840 | 2016-12-30 08:51:12.670 | Strange diversion, missing data |\n",
    "| 2016-12-31 00:51:37.580 | 2016-12-31 00:51:39.580 | |\n",
    "| 2017-01-01 11:54:29.820 | 2017-01-01 11:54:41.820 | Overlapping track |\n",
    "| 2017-01-01 22:51:51.680 | 2017-01-01 22:54:41.700 | Strange deflection |\n",
    "| 2017-01-01 22:56:05.700 | 2017-01-01 22:59:57.700 | Strange deflection |\n",
    "| 2017-01-04 00:34:30.360 | 2017-01-04 00:34:33.360 | Large move |\n",
    "| 2017-01-13 08:26:40.850 | 2017-01-13 08:30:36.840 | Strange deflection |\n",
    "| 2017-03-11 06:47:22.300 | 2017-03-11 08:21:40.970 | Strange deflection |\n",
    "| 2017-03-16 17:51:36.490 | 2017-03-16 18:12:21.470 | Gap with jump |\n",
    "| 2017-03-17 15:29:07.620 | 2017-03-17 15:29:10.620 | Gap with jump |\n",
    "| 2017-03-18 04:07:31.290 | 2017-03-18 04:07:32.290 | Gap with jump |\n",
    "| 2017-03-18 12:43:22.100 | 2017-03-18 12:43:42.100 | Overlapping track |\n",
    "| 2017-03-18 13:01:04.100 | 2017-03-18 19:09:28.440 | Large gap with large time difference |\n",
    "| 2017-03-24 10:13:24.720 | 2017-03-24 10:13:25.720 | Gap with jump |\n",
    "| 2017-03-25 10:07:08.990 | 2017-03-25 10:07:15.990 | Gap with jump |\n",
    "| 2017-03-26 22:25:49.940 | 2017-03-26 22:25:50.940 | Gap with jump |\n",
    "These points have not been flagged but will be returned to later on in the processing. "
   ]
  },
  {
   "cell_type": "markdown",
   "metadata": {},
   "source": [
    "### GLONASS"
   ]
  },
  {
   "cell_type": "markdown",
   "metadata": {},
   "source": [
    "Data in the form of the daily csv files, were imported into QGIS mapping software in order to manually visually inspect the data points. This was done at a resolution of 1:100,000.\n",
    "\n",
    "There were no obvious outlying points. \n",
    "Number of points flagged as outliers: 0\n",
    "    \n",
    "The following sections were identified as unusual and have been classified in the table below: \n",
    "| Start date and time (UTC) | End date and time (UTC) | Potential problem |\n",
    "|---------|-----------|----------|\n",
    "| 2017-04-06 15:26:30 | 2017-04-06 15:26:32 | Gap with jump |\n",
    "| 2017-04-06 18:22:07 | 2017-04-06 18:22:09 | Gap with jump |\n",
    "| 2017-04-06 21:41:21 | 2017-04-06 21:41:45 | Strange deflection |\n",
    "| 2017-04-07 15:25:06 | 2017-04-07 15:25:13 | Strange deflection |\n",
    "| 2017-04-08 04:12:44 | 2017-04-08 04:13:27 | Strange deflection |\n",
    "| 2017-04-08 05:01:34 | 2017-04-08 05:01:49 | Strange deflection |\n",
    "| 2017-04-08 18:42:12 | 2017-04-08 18:43:04 | Strange deflection |\n",
    "| 2017-04-08 18:56:02 | 2017-04-08 18:57:27 | Strange deflection |\n",
    "| 2017-04-08 19:00:26 | 2017-04-08 19:01:03 | Strange deflection |\n",
    "| 2017-04-08 19:05:31 | 2017-04-08 19:05:46 | Strange deflection |\n",
    "| 2017-04-10 02:43:40 | 2017-04-10 02:44:25 | Strange deflection |"
   ]
  },
  {
   "cell_type": "markdown",
   "metadata": {},
   "source": [
    "### STEP 3 - Motion data correction"
   ]
  },
  {
   "cell_type": "markdown",
   "metadata": {},
   "source": [
    "### STEP 4 - Automated data filtering"
   ]
  },
  {
   "cell_type": "markdown",
   "metadata": {},
   "source": [
    "Each data point will be compared with the one before and after to automatically filter out points that are out of the conceivable range of the ship's movement.'\n",
    "\n",
    "The second of two consecutive points to be flagged as \"likely incorrect\" when any of the following cases occur: \n",
    "    - speed between two points >= 20 knots\n",
    "    - acceleration between two points >= 1 ms^-2\n",
    "    - direction between two points >= 5 degrees"
   ]
  },
  {
   "cell_type": "code",
   "execution_count": null,
   "metadata": {
    "collapsed": false
   },
   "outputs": [],
   "source": [
    "# Test\n",
    "datetime = \"2017-03-17 11:34:26.410\"\n",
    "gpsdb_df[gpsdb_df.date_time == datetime].latitude.item()"
   ]
  },
  {
   "cell_type": "code",
   "execution_count": 114,
   "metadata": {
    "collapsed": true
   },
   "outputs": [],
   "source": [
    "def get_location(datetime, position_df):\n",
    "    \"\"\"Create a tuple of the date_time, latitude and longitude of a location in a dataframe from a given date_time.\"\"\"\n",
    "    \n",
    "    latitude = position_df[position_df.date_time == datetime].latitude.item()\n",
    "    longitude = position_df[position_df.date_time == datetime].longitude.item()\n",
    "    \n",
    "    location = (datetime, latitude, longitude)\n",
    "    \n",
    "    return location"
   ]
  },
  {
   "cell_type": "code",
   "execution_count": null,
   "metadata": {
    "collapsed": false
   },
   "outputs": [],
   "source": [
    "# Test\n",
    "datetime = \"2017-03-17 11:34:27.410\"\n",
    "position_df = gpsdb_df\n",
    "location = get_location(datetime, position_df)\n",
    "print(location)"
   ]
  },
  {
   "cell_type": "code",
   "execution_count": 115,
   "metadata": {
    "collapsed": false
   },
   "outputs": [],
   "source": [
    "def calculate_distance(origin, destination):\n",
    "    \"\"\"Calculate the haversine or great-circle distance in metres between two points with latitudes and longitudes, where they are known as the origin and destination.\"\"\"\n",
    "    \n",
    "    datetime1, lat1, lon1 = origin\n",
    "    datetime2, lat2, lon2 = destination\n",
    "    radius = 6371  # km\n",
    "    \n",
    "    dlat = math.radians(lat2 - lat1)\n",
    "    dlon = math.radians(lon2 - lon1)\n",
    "    a = math.sin(dlat / 2) * math.sin(dlat / 2) + math.cos(math.radians(lat1)) \\\n",
    "                                                  * math.cos(math.radians(lat2)) * math.sin(dlon / 2) * math.sin(dlon / 2)\n",
    "    c = 2 * math.atan2(math.sqrt(a), math.sqrt(1 - a))\n",
    "    d = radius * c # Distance in km\n",
    "    d_m = d*1000 # Distance in metres\n",
    "    \n",
    "    return d_m"
   ]
  },
  {
   "cell_type": "code",
   "execution_count": 116,
   "metadata": {
    "collapsed": false
   },
   "outputs": [
    {
     "name": "stdout",
     "output_type": "stream",
     "text": [
      "Origin: ('2017-03-17 11:34:26.410', -39.3727467853333, 14.4918882686667)\n",
      "Destination: ('2017-03-17 11:34:27.410', -39.3726810455, 14.4918980598333)\n",
      "Distance: 7.358226506278989 m\n"
     ]
    }
   ],
   "source": [
    "# Test\n",
    "origin_datetime = \"2017-03-17 11:34:26.410\"\n",
    "destination_datetime = \"2017-03-17 11:34:27.410\"\n",
    "position_df = gpsdb_df\n",
    "\n",
    "origin = get_location(origin_datetime, position_df)\n",
    "destination = get_location(destination_datetime, position_df)\n",
    "\n",
    "print(\"Origin:\", origin)\n",
    "print(\"Destination:\", destination)\n",
    "\n",
    "distance = calculate_distance(origin, destination)\n",
    "print(\"Distance:\", distance, \"m\")\n"
   ]
  },
  {
   "cell_type": "code",
   "execution_count": null,
   "metadata": {
    "collapsed": false
   },
   "outputs": [],
   "source": [
    "def knots_two_points(location1, location2):\n",
    "    \"\"\"Calculate the speed in knots between two locations which are dictionaries containing latitude, longitude and date_time.\"\"\"\n",
    "    \n",
    "    distance = calculate_distance(location1, location2)\n",
    "    \n",
    "    datetime_str1, lat1, lon1 = origin\n",
    "    datetime_str2, lat2, lon2 = destination\n",
    "    \n",
    "    datetime1 = datetime.datetime.strptime(datetime_str1,\"%Y-%m-%d %H:%M:%S.%f\")\n",
    "    datetime2 = datetime.datetime.strptime(datetime_str2,\"%Y-%m-%d %H:%M:%S.%f\")\n",
    "    \n",
    "    seconds = abs((datetime1) - (datetime2)).total_seconds()\n",
    "    \n",
    "    conversion = 3600/1852 # convert 1 ms-1 to knots (nautical miles per hour; 1 nm = 1852 metres)\n",
    "    speed_knots = (distance/seconds) * conversion\n",
    "    \n",
    "    if seconds > 0:\n",
    "        return speed_knots\n",
    "    else:\n",
    "        return \"N/A\""
   ]
  },
  {
   "cell_type": "code",
   "execution_count": null,
   "metadata": {
    "collapsed": false
   },
   "outputs": [],
   "source": [
    "# Test\n",
    "speed = knots_two_points(origin, destination)\n",
    "print(\"Speed: \", speed, \"knots\")"
   ]
  },
  {
   "cell_type": "code",
   "execution_count": null,
   "metadata": {
    "collapsed": true
   },
   "outputs": [],
   "source": [
    "def set_utc(date_time):\n",
    "    \"\"\"Set the timezone to be UTC.\"\"\"\n",
    "    utc = datetime.timezone(datetime.timedelta(0))\n",
    "    date_time = date_time.replace(tzinfo=utc)\n",
    "    return date_time"
   ]
  },
  {
   "cell_type": "code",
   "execution_count": null,
   "metadata": {
    "collapsed": false
   },
   "outputs": [],
   "source": [
    "positions = gpsdb_df[['date_time', 'latitude', 'longitude']]"
   ]
  },
  {
   "cell_type": "code",
   "execution_count": null,
   "metadata": {
    "collapsed": false
   },
   "outputs": [],
   "source": [
    "positions.sample(5)"
   ]
  },
  {
   "cell_type": "code",
   "execution_count": null,
   "metadata": {
    "collapsed": true
   },
   "outputs": [],
   "source": [
    "#Test\n",
    "df_test = gpsdb_df.head(1000)"
   ]
  },
  {
   "cell_type": "code",
   "execution_count": null,
   "metadata": {
    "collapsed": false
   },
   "outputs": [],
   "source": [
    "def analyse(position_df):\n",
    "    \"\"\"Analyse the cruise track to ensure each point lies within a reasonable distance and direction from the previous point.\"\"\"\n",
    "    earliest_date_time = position_df['date_time'].min()\n",
    "    latest_date_time = position_df['date_time'].max()\n",
    "\n",
    "    current_date = earliest_date_time\n",
    "\n",
    "    count = 0\n",
    "    previous_position = get_location(earliest_date_time, position_df)\n",
    "    datetime_previous, latitude_previous, longitude_previous = previous_position\n",
    "    \n",
    "    positions = position_df[['date_time', 'latitude', 'longitude']]\n",
    "    positions.sample(5)\n",
    "        \n",
    "    for position in positions.itertuples():\n",
    "        index, date_time, latitude, longitude = position\n",
    "\n",
    "        current_position = position[1:]\n",
    "\n",
    "        speed_knots = knots_two_points(previous_position, current_position)\n",
    "\n",
    "        error_message = \"\"\n",
    "\n",
    "        if speed_knots == \"N/A\":\n",
    "            error_message = \"No speed?\"\n",
    "        elif speed_knots >= 20:\n",
    "            error_message += \"**** Too fast ****\"\n",
    "\n",
    "        if error_message != \"\":\n",
    "            print(\"Error: \", error_message)\n",
    "            print(\"{}   ({:.4f}, {:.4f})    {} knots\".format(current_position[0], current_position[1], current_position[2], speed_knots))\n",
    "\n",
    "        previous_position = current_position"
   ]
  },
  {
   "cell_type": "code",
   "execution_count": null,
   "metadata": {
    "collapsed": false
   },
   "outputs": [],
   "source": [
    "analyse(df_test)"
   ]
  },
  {
   "cell_type": "code",
   "execution_count": 117,
   "metadata": {
    "collapsed": true
   },
   "outputs": [],
   "source": [
    "def calculate_bearing(origin, destination):\n",
    "    \"\"\"Calculate the direction turned between two points.\"\"\"\n",
    "    \n",
    "    datetime1, lat1, lon1 = origin\n",
    "    datetime2, lat2, lon2 = destination\n",
    "    \n",
    "    dlon = math.radians(lon2 - lon1)\n",
    "    \n",
    "    bearing = math.atan2(math.sin(dlon) * math.cos(math.radians(lat2)), \n",
    "                         math.cos(math.radians(lat1)) * math.sin(math.radians(lat2)) \n",
    "                         - math.sin(math.radians(lat1)) * math.cos(math.radians(lat2)) * math.cos(dlon))\n",
    "    \n",
    "    return bearing\n",
    "    "
   ]
  },
  {
   "cell_type": "code",
   "execution_count": 119,
   "metadata": {
    "collapsed": false
   },
   "outputs": [
    {
     "name": "stdout",
     "output_type": "stream",
     "text": [
      "6.567804333108732\n"
     ]
    }
   ],
   "source": [
    "bearing = calculate_bearing(origin, destination)\n",
    "print(math.degrees(bearing))"
   ]
  },
  {
   "cell_type": "code",
   "execution_count": null,
   "metadata": {
    "collapsed": true
   },
   "outputs": [],
   "source": []
  }
 ],
 "metadata": {
  "kernelspec": {
   "display_name": "Python 3",
   "language": "python",
   "name": "python3"
  },
  "language_info": {
   "codemirror_mode": {
    "name": "ipython",
    "version": 3
   },
   "file_extension": ".py",
   "mimetype": "text/x-python",
   "name": "python",
   "nbconvert_exporter": "python",
   "pygments_lexer": "ipython3",
   "version": "3.5.3"
  }
 },
 "nbformat": 4,
 "nbformat_minor": 2
}
