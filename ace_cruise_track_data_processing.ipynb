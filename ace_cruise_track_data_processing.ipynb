{
 "cells": [
  {
   "cell_type": "markdown",
   "metadata": {},
   "source": [
    "# Antarctic Circumnavigation Expedition Cruise Track data processing"
   ]
  },
  {
   "cell_type": "markdown",
   "metadata": {},
   "source": [
    "## GLONASS and Trimble GPS data"
   ]
  },
  {
   "cell_type": "markdown",
   "metadata": {},
   "source": [
    "Follow the steps as described here: http://epic.awi.de/48174/"
   ]
  },
  {
   "cell_type": "markdown",
   "metadata": {},
   "source": [
    "Import relevant packages"
   ]
  },
  {
   "cell_type": "code",
   "execution_count": null,
   "metadata": {
    "collapsed": false
   },
   "outputs": [],
   "source": [
    "import pandas as pd\n",
    "import csv\n",
    "import MySQLdb\n",
    "import datetime\n",
    "import math\n",
    "import numpy as np"
   ]
  },
  {
   "cell_type": "markdown",
   "metadata": {},
   "source": [
    "### STEP 1 - Extract data from database"
   ]
  },
  {
   "cell_type": "markdown",
   "metadata": {},
   "source": [
    "Import data from a database table into a dataframe"
   ]
  },
  {
   "cell_type": "code",
   "execution_count": null,
   "metadata": {
    "collapsed": true
   },
   "outputs": [],
   "source": [
    "def get_data_from_database(query, db_connection):\n",
    "    \n",
    "    dataframe = pd.read_sql(query, con=db_connection)\n",
    "\n",
    "    return dataframe"
   ]
  },
  {
   "cell_type": "markdown",
   "metadata": {},
   "source": [
    "**GPS data**"
   ]
  },
  {
   "cell_type": "code",
   "execution_count": 205,
   "metadata": {
    "collapsed": false
   },
   "outputs": [
    {
     "name": "stdout",
     "output_type": "stream",
     "text": [
      "ace\n"
     ]
    }
   ],
   "source": [
    "query_trimble = 'select * from ship_data_gpggagpsfix where device_id=63 order by date_time;'\n",
    "password = input()"
   ]
  },
  {
   "cell_type": "code",
   "execution_count": 206,
   "metadata": {
    "collapsed": true
   },
   "outputs": [],
   "source": [
    "db_connection = MySQLdb.connect(host = 'localhost', user = 'ace', passwd = password, db = 'ace2016', port = 3306); \n",
    "\n",
    "gpsdb_df = get_data_from_database(query_trimble, db_connection)\n",
    "#gpsdb_df_opt = optimise_dataframe(gpsdb_df_opt)"
   ]
  },
  {
   "cell_type": "markdown",
   "metadata": {},
   "source": [
    "Preview data"
   ]
  },
  {
   "cell_type": "code",
   "execution_count": 207,
   "metadata": {
    "collapsed": false
   },
   "outputs": [
    {
     "data": {
      "text/html": [
       "<div>\n",
       "<style scoped>\n",
       "    .dataframe tbody tr th:only-of-type {\n",
       "        vertical-align: middle;\n",
       "    }\n",
       "\n",
       "    .dataframe tbody tr th {\n",
       "        vertical-align: top;\n",
       "    }\n",
       "\n",
       "    .dataframe thead th {\n",
       "        text-align: right;\n",
       "    }\n",
       "</style>\n",
       "<table border=\"1\" class=\"dataframe\">\n",
       "  <thead>\n",
       "    <tr style=\"text-align: right;\">\n",
       "      <th></th>\n",
       "      <th>id</th>\n",
       "      <th>date_time</th>\n",
       "      <th>latitude</th>\n",
       "      <th>longitude</th>\n",
       "      <th>fix_quality</th>\n",
       "      <th>number_satellites</th>\n",
       "      <th>horiz_dilution_of_position</th>\n",
       "      <th>altitude</th>\n",
       "      <th>altitude_units</th>\n",
       "      <th>geoid_height</th>\n",
       "      <th>geoid_height_units</th>\n",
       "      <th>device_id</th>\n",
       "      <th>measureland_qualifier_flags_id</th>\n",
       "    </tr>\n",
       "  </thead>\n",
       "  <tbody>\n",
       "    <tr>\n",
       "      <th>5882620</th>\n",
       "      <td>11543483</td>\n",
       "      <td>2017-03-04 03:26:27.060</td>\n",
       "      <td>-54.017306</td>\n",
       "      <td>-37.436617</td>\n",
       "      <td>5</td>\n",
       "      <td>7</td>\n",
       "      <td>0.128</td>\n",
       "      <td>6.222</td>\n",
       "      <td>M</td>\n",
       "      <td>10.293</td>\n",
       "      <td>M</td>\n",
       "      <td>63</td>\n",
       "      <td>1</td>\n",
       "    </tr>\n",
       "    <tr>\n",
       "      <th>5322454</th>\n",
       "      <td>10442819</td>\n",
       "      <td>2017-02-25 15:49:49.790</td>\n",
       "      <td>-53.170333</td>\n",
       "      <td>-70.906562</td>\n",
       "      <td>5</td>\n",
       "      <td>9</td>\n",
       "      <td>0.128</td>\n",
       "      <td>-2.612</td>\n",
       "      <td>M</td>\n",
       "      <td>12.840</td>\n",
       "      <td>M</td>\n",
       "      <td>63</td>\n",
       "      <td>1</td>\n",
       "    </tr>\n",
       "    <tr>\n",
       "      <th>1125075</th>\n",
       "      <td>1777333</td>\n",
       "      <td>2017-01-04 02:47:40.480</td>\n",
       "      <td>-50.307577</td>\n",
       "      <td>67.568075</td>\n",
       "      <td>5</td>\n",
       "      <td>8</td>\n",
       "      <td>0.128</td>\n",
       "      <td>-4.750</td>\n",
       "      <td>M</td>\n",
       "      <td>38.827</td>\n",
       "      <td>M</td>\n",
       "      <td>63</td>\n",
       "      <td>1</td>\n",
       "    </tr>\n",
       "    <tr>\n",
       "      <th>951043</th>\n",
       "      <td>1430416</td>\n",
       "      <td>2017-01-02 02:26:28.890</td>\n",
       "      <td>-47.551142</td>\n",
       "      <td>55.587443</td>\n",
       "      <td>5</td>\n",
       "      <td>8</td>\n",
       "      <td>0.128</td>\n",
       "      <td>3.304</td>\n",
       "      <td>M</td>\n",
       "      <td>39.930</td>\n",
       "      <td>M</td>\n",
       "      <td>63</td>\n",
       "      <td>1</td>\n",
       "    </tr>\n",
       "    <tr>\n",
       "      <th>6310384</th>\n",
       "      <td>12397105</td>\n",
       "      <td>2017-03-09 02:16:57.710</td>\n",
       "      <td>-59.147568</td>\n",
       "      <td>-18.050111</td>\n",
       "      <td>5</td>\n",
       "      <td>6</td>\n",
       "      <td>0.128</td>\n",
       "      <td>-3.909</td>\n",
       "      <td>M</td>\n",
       "      <td>21.486</td>\n",
       "      <td>M</td>\n",
       "      <td>63</td>\n",
       "      <td>1</td>\n",
       "    </tr>\n",
       "  </tbody>\n",
       "</table>\n",
       "</div>"
      ],
      "text/plain": [
       "               id               date_time   latitude  longitude  fix_quality  \\\n",
       "5882620  11543483 2017-03-04 03:26:27.060 -54.017306 -37.436617            5   \n",
       "5322454  10442819 2017-02-25 15:49:49.790 -53.170333 -70.906562            5   \n",
       "1125075   1777333 2017-01-04 02:47:40.480 -50.307577  67.568075            5   \n",
       "951043    1430416 2017-01-02 02:26:28.890 -47.551142  55.587443            5   \n",
       "6310384  12397105 2017-03-09 02:16:57.710 -59.147568 -18.050111            5   \n",
       "\n",
       "         number_satellites  horiz_dilution_of_position  altitude  \\\n",
       "5882620                  7                       0.128     6.222   \n",
       "5322454                  9                       0.128    -2.612   \n",
       "1125075                  8                       0.128    -4.750   \n",
       "951043                   8                       0.128     3.304   \n",
       "6310384                  6                       0.128    -3.909   \n",
       "\n",
       "        altitude_units  geoid_height geoid_height_units  device_id  \\\n",
       "5882620              M        10.293                  M         63   \n",
       "5322454              M        12.840                  M         63   \n",
       "1125075              M        38.827                  M         63   \n",
       "951043               M        39.930                  M         63   \n",
       "6310384              M        21.486                  M         63   \n",
       "\n",
       "         measureland_qualifier_flags_id  \n",
       "5882620                               1  \n",
       "5322454                               1  \n",
       "1125075                               1  \n",
       "951043                                1  \n",
       "6310384                               1  "
      ]
     },
     "execution_count": 207,
     "metadata": {},
     "output_type": "execute_result"
    }
   ],
   "source": [
    "gpsdb_df.sample(5)"
   ]
  },
  {
   "cell_type": "markdown",
   "metadata": {},
   "source": [
    "Number of data points output"
   ]
  },
  {
   "cell_type": "code",
   "execution_count": 208,
   "metadata": {
    "collapsed": false
   },
   "outputs": [
    {
     "data": {
      "text/plain": [
       "8534827"
      ]
     },
     "execution_count": 208,
     "metadata": {},
     "output_type": "execute_result"
    }
   ],
   "source": [
    "len(gpsdb_df)"
   ]
  },
  {
   "cell_type": "markdown",
   "metadata": {},
   "source": [
    "Dates and times covered by the Trimble data set: "
   ]
  },
  {
   "cell_type": "code",
   "execution_count": 209,
   "metadata": {
    "collapsed": false
   },
   "outputs": [
    {
     "name": "stdout",
     "output_type": "stream",
     "text": [
      "Start date: 2016-12-21 06:59:14.440000\n",
      "End date: 2017-04-11 08:07:13.600000\n"
     ]
    }
   ],
   "source": [
    "print(\"Start date:\", gpsdb_df['date_time'].min())\n",
    "print(\"End date:\", gpsdb_df['date_time'].max())"
   ]
  },
  {
   "cell_type": "markdown",
   "metadata": {},
   "source": [
    "Output the data into monthly files (to be able to plot them to visually screen the obvious outliers)."
   ]
  },
  {
   "cell_type": "code",
   "execution_count": 210,
   "metadata": {
    "collapsed": false
   },
   "outputs": [
    {
     "data": {
      "text/plain": [
       "id                                         int64\n",
       "date_time                         datetime64[ns]\n",
       "latitude                                 float64\n",
       "longitude                                float64\n",
       "fix_quality                                int64\n",
       "number_satellites                          int64\n",
       "horiz_dilution_of_position               float64\n",
       "altitude                                 float64\n",
       "altitude_units                            object\n",
       "geoid_height                             float64\n",
       "geoid_height_units                        object\n",
       "device_id                                  int64\n",
       "measureland_qualifier_flags_id             int64\n",
       "dtype: object"
      ]
     },
     "execution_count": 210,
     "metadata": {},
     "output_type": "execute_result"
    }
   ],
   "source": [
    "gpsdb_df.dtypes"
   ]
  },
  {
   "cell_type": "code",
   "execution_count": 211,
   "metadata": {
    "collapsed": false
   },
   "outputs": [],
   "source": [
    "gpsdb_df['date_time_day'] = gpsdb_df['date_time'].dt.strftime('%Y-%m-%d')"
   ]
  },
  {
   "cell_type": "code",
   "execution_count": 212,
   "metadata": {
    "collapsed": false
   },
   "outputs": [
    {
     "data": {
      "text/html": [
       "<div>\n",
       "<style scoped>\n",
       "    .dataframe tbody tr th:only-of-type {\n",
       "        vertical-align: middle;\n",
       "    }\n",
       "\n",
       "    .dataframe tbody tr th {\n",
       "        vertical-align: top;\n",
       "    }\n",
       "\n",
       "    .dataframe thead th {\n",
       "        text-align: right;\n",
       "    }\n",
       "</style>\n",
       "<table border=\"1\" class=\"dataframe\">\n",
       "  <thead>\n",
       "    <tr style=\"text-align: right;\">\n",
       "      <th></th>\n",
       "      <th>id</th>\n",
       "      <th>date_time</th>\n",
       "      <th>latitude</th>\n",
       "      <th>longitude</th>\n",
       "      <th>fix_quality</th>\n",
       "      <th>number_satellites</th>\n",
       "      <th>horiz_dilution_of_position</th>\n",
       "      <th>altitude</th>\n",
       "      <th>altitude_units</th>\n",
       "      <th>geoid_height</th>\n",
       "      <th>geoid_height_units</th>\n",
       "      <th>device_id</th>\n",
       "      <th>measureland_qualifier_flags_id</th>\n",
       "      <th>date_time_day</th>\n",
       "    </tr>\n",
       "  </thead>\n",
       "  <tbody>\n",
       "    <tr>\n",
       "      <th>5246426</th>\n",
       "      <td>10290587</td>\n",
       "      <td>2017-02-24 18:39:42.660</td>\n",
       "      <td>-53.170322</td>\n",
       "      <td>-70.906566</td>\n",
       "      <td>5</td>\n",
       "      <td>8</td>\n",
       "      <td>0.128</td>\n",
       "      <td>-4.072</td>\n",
       "      <td>M</td>\n",
       "      <td>12.840</td>\n",
       "      <td>M</td>\n",
       "      <td>63</td>\n",
       "      <td>1</td>\n",
       "      <td>2017-02-24</td>\n",
       "    </tr>\n",
       "    <tr>\n",
       "      <th>5474098</th>\n",
       "      <td>10746094</td>\n",
       "      <td>2017-02-27 09:57:16.030</td>\n",
       "      <td>-55.017352</td>\n",
       "      <td>-59.600214</td>\n",
       "      <td>5</td>\n",
       "      <td>6</td>\n",
       "      <td>0.133</td>\n",
       "      <td>-0.995</td>\n",
       "      <td>M</td>\n",
       "      <td>16.495</td>\n",
       "      <td>M</td>\n",
       "      <td>63</td>\n",
       "      <td>1</td>\n",
       "      <td>2017-02-27</td>\n",
       "    </tr>\n",
       "    <tr>\n",
       "      <th>3316191</th>\n",
       "      <td>6455759</td>\n",
       "      <td>2017-02-02 10:15:35.840</td>\n",
       "      <td>-65.366140</td>\n",
       "      <td>157.762000</td>\n",
       "      <td>5</td>\n",
       "      <td>9</td>\n",
       "      <td>0.128</td>\n",
       "      <td>1.022</td>\n",
       "      <td>M</td>\n",
       "      <td>-45.270</td>\n",
       "      <td>M</td>\n",
       "      <td>63</td>\n",
       "      <td>1</td>\n",
       "      <td>2017-02-02</td>\n",
       "    </tr>\n",
       "    <tr>\n",
       "      <th>5490432</th>\n",
       "      <td>10778763</td>\n",
       "      <td>2017-02-27 14:29:30.270</td>\n",
       "      <td>-55.110360</td>\n",
       "      <td>-57.902141</td>\n",
       "      <td>5</td>\n",
       "      <td>7</td>\n",
       "      <td>0.128</td>\n",
       "      <td>1.566</td>\n",
       "      <td>M</td>\n",
       "      <td>16.066</td>\n",
       "      <td>M</td>\n",
       "      <td>63</td>\n",
       "      <td>1</td>\n",
       "      <td>2017-02-27</td>\n",
       "    </tr>\n",
       "    <tr>\n",
       "      <th>7906691</th>\n",
       "      <td>16641956</td>\n",
       "      <td>2017-04-04 00:22:44.170</td>\n",
       "      <td>22.895949</td>\n",
       "      <td>-18.696221</td>\n",
       "      <td>5</td>\n",
       "      <td>8</td>\n",
       "      <td>0.128</td>\n",
       "      <td>-0.559</td>\n",
       "      <td>M</td>\n",
       "      <td>27.143</td>\n",
       "      <td>M</td>\n",
       "      <td>63</td>\n",
       "      <td>1</td>\n",
       "      <td>2017-04-04</td>\n",
       "    </tr>\n",
       "  </tbody>\n",
       "</table>\n",
       "</div>"
      ],
      "text/plain": [
       "               id               date_time   latitude   longitude  fix_quality  \\\n",
       "5246426  10290587 2017-02-24 18:39:42.660 -53.170322  -70.906566            5   \n",
       "5474098  10746094 2017-02-27 09:57:16.030 -55.017352  -59.600214            5   \n",
       "3316191   6455759 2017-02-02 10:15:35.840 -65.366140  157.762000            5   \n",
       "5490432  10778763 2017-02-27 14:29:30.270 -55.110360  -57.902141            5   \n",
       "7906691  16641956 2017-04-04 00:22:44.170  22.895949  -18.696221            5   \n",
       "\n",
       "         number_satellites  horiz_dilution_of_position  altitude  \\\n",
       "5246426                  8                       0.128    -4.072   \n",
       "5474098                  6                       0.133    -0.995   \n",
       "3316191                  9                       0.128     1.022   \n",
       "5490432                  7                       0.128     1.566   \n",
       "7906691                  8                       0.128    -0.559   \n",
       "\n",
       "        altitude_units  geoid_height geoid_height_units  device_id  \\\n",
       "5246426              M        12.840                  M         63   \n",
       "5474098              M        16.495                  M         63   \n",
       "3316191              M       -45.270                  M         63   \n",
       "5490432              M        16.066                  M         63   \n",
       "7906691              M        27.143                  M         63   \n",
       "\n",
       "         measureland_qualifier_flags_id date_time_day  \n",
       "5246426                               1    2017-02-24  \n",
       "5474098                               1    2017-02-27  \n",
       "3316191                               1    2017-02-02  \n",
       "5490432                               1    2017-02-27  \n",
       "7906691                               1    2017-04-04  "
      ]
     },
     "execution_count": 212,
     "metadata": {},
     "output_type": "execute_result"
    }
   ],
   "source": [
    "gpsdb_df.sample(5)"
   ]
  },
  {
   "cell_type": "code",
   "execution_count": null,
   "metadata": {
    "collapsed": false
   },
   "outputs": [],
   "source": [
    "days = gpsdb_df.groupby('date_time_day')\n",
    "for day in days.groups:\n",
    "    path = '/home/jen/ace_trimble_gps_' + str(day) + '.csv'\n",
    "    days.get_group(day).to_csv(path, index=False)"
   ]
  },
  {
   "cell_type": "markdown",
   "metadata": {},
   "source": [
    "**GLONASS data**"
   ]
  },
  {
   "cell_type": "code",
   "execution_count": null,
   "metadata": {
    "collapsed": false
   },
   "outputs": [],
   "source": [
    "query_glonass = 'select * from ship_data_gpggagpsfix where device_id=64;'\n",
    "\n",
    "password = input()\n"
   ]
  },
  {
   "cell_type": "code",
   "execution_count": null,
   "metadata": {
    "collapsed": false
   },
   "outputs": [],
   "source": [
    "db_connection = MySQLdb.connect(host = 'localhost', user = 'ace', passwd = password, db = 'ace2016', port = 3306); \n",
    "\n",
    "glonassdb_df = get_data_from_database(query_glonass, db_connection)"
   ]
  },
  {
   "cell_type": "markdown",
   "metadata": {},
   "source": [
    "Preview data"
   ]
  },
  {
   "cell_type": "code",
   "execution_count": null,
   "metadata": {
    "collapsed": false
   },
   "outputs": [],
   "source": [
    "glonassdb_df.sample(5)"
   ]
  },
  {
   "cell_type": "markdown",
   "metadata": {},
   "source": [
    "Number of data points output"
   ]
  },
  {
   "cell_type": "code",
   "execution_count": null,
   "metadata": {
    "collapsed": false
   },
   "outputs": [],
   "source": [
    "len(glonassdb_df)"
   ]
  },
  {
   "cell_type": "markdown",
   "metadata": {},
   "source": [
    "Dates and times covered by the GLONASS data set: "
   ]
  },
  {
   "cell_type": "code",
   "execution_count": null,
   "metadata": {
    "collapsed": false
   },
   "outputs": [],
   "source": [
    "print(\"Start date:\", glonassdb_df['date_time'].min())\n",
    "print(\"End date:\", glonassdb_df['date_time'].max())"
   ]
  },
  {
   "cell_type": "markdown",
   "metadata": {},
   "source": [
    "Output the data into monthly files (to be able to plot them to visually screen the obvious outliers)."
   ]
  },
  {
   "cell_type": "code",
   "execution_count": null,
   "metadata": {
    "collapsed": true
   },
   "outputs": [],
   "source": [
    "glonassdb_df['date_time_day'] = glonassdb_df['date_time'].dt.strftime('%Y-%m-%d')"
   ]
  },
  {
   "cell_type": "code",
   "execution_count": null,
   "metadata": {
    "collapsed": false
   },
   "outputs": [],
   "source": [
    "glonassdb_df.sample(5)"
   ]
  },
  {
   "cell_type": "code",
   "execution_count": null,
   "metadata": {
    "collapsed": true
   },
   "outputs": [],
   "source": [
    "days = glonassdb_df.groupby('date_time_day')\n",
    "for day in days.groups:\n",
    "    path = '/home/jen/ace_glonass_' + str(day) + '.csv'\n",
    "    days.get_group(day).to_csv(path, index=False)"
   ]
  },
  {
   "cell_type": "markdown",
   "metadata": {},
   "source": [
    "### STEP 2 - Visual inspection"
   ]
  },
  {
   "cell_type": "markdown",
   "metadata": {},
   "source": [
    "### Trimble GPS"
   ]
  },
  {
   "cell_type": "markdown",
   "metadata": {},
   "source": [
    "Data in the form of the daily csv files, were imported into QGIS mapping software in order to manually visually inspect the data points. This was done at a resolution of 1:100,000.\n",
    "\n",
    "There were no obvious outlying points. \n",
    "Number of points flagged as outliers: 0\n",
    "\n",
    "The following sections were identified as unusual and have been classified in the table below: \n",
    "| Start date and time (UTC) | End date and time (UTC) | Potential problem |\n",
    "|---------|-----------|----------|\n",
    "| 2016-12-21 10:15:46.620 | 2016-12-21 10:16:35.620 | Overlapping track |\n",
    "| 2016-12-21 07:37:16.470 | 2016-12-21 07:40:02.470 | Overlapping track |\n",
    "| 2016-12-22 04:43:10.010 | 2016-12-22 04:43:14.010 | Overlapping track |\n",
    "| 2016-12-22 09:38:40.270 | 2016-12-22 09:38:41.270 | Strange gap |\n",
    "| 2016-12-23 00:15:22.060 | 2016-12-23 00:15:33.060 | Overlapping track |\n",
    "| 2016-12-23 04:57:57.310 | 2016-12-23 04:57:58.310 | Large gap |\n",
    "| 2016-12-23 05:05:05.310 | 2016-12-23 05:11:43.540 | Overlapping track |\n",
    "| 2016-12-23 05:30:01.560 | 2016-12-23 05:30:04.560 | Large gap |\n",
    "| 2016-12-25 06:04:50.900 | 2016-12-25 06:09:52.980 | Overlapping track |\n",
    "| 2016-12-29 12:57:59.390 | 2016-12-29 14:57:34.730 | Strange diversion |\n",
    "| 2016-12-30 04:53:24.840 | 2016-12-30 08:51:12.670 | Strange diversion, missing data |\n",
    "| 2016-12-31 00:51:37.580 | 2016-12-31 00:51:39.580 | |\n",
    "| 2017-01-01 11:54:29.820 | 2017-01-01 11:54:41.820 | Overlapping track |\n",
    "| 2017-01-01 22:51:51.680 | 2017-01-01 22:54:41.700 | Strange deflection |\n",
    "| 2017-01-01 22:56:05.700 | 2017-01-01 22:59:57.700 | Strange deflection |\n",
    "| 2017-01-04 00:34:30.360 | 2017-01-04 00:34:33.360 | Large move |\n",
    "| 2017-01-13 08:26:40.850 | 2017-01-13 08:30:36.840 | Strange deflection |\n",
    "| 2017-03-11 06:47:22.300 | 2017-03-11 08:21:40.970 | Strange deflection |\n",
    "| 2017-03-16 17:51:36.490 | 2017-03-16 18:12:21.470 | Gap with jump |\n",
    "| 2017-03-17 15:29:07.620 | 2017-03-17 15:29:10.620 | Gap with jump |\n",
    "| 2017-03-18 04:07:31.290 | 2017-03-18 04:07:32.290 | Gap with jump |\n",
    "| 2017-03-18 12:43:22.100 | 2017-03-18 12:43:42.100 | Overlapping track |\n",
    "| 2017-03-18 13:01:04.100 | 2017-03-18 19:09:28.440 | Large gap with large time difference |\n",
    "| 2017-03-24 10:13:24.720 | 2017-03-24 10:13:25.720 | Gap with jump |\n",
    "| 2017-03-25 10:07:08.990 | 2017-03-25 10:07:15.990 | Gap with jump |\n",
    "| 2017-03-26 22:25:49.940 | 2017-03-26 22:25:50.940 | Gap with jump |\n",
    "These points have not been flagged but will be returned to later on in the processing. "
   ]
  },
  {
   "cell_type": "markdown",
   "metadata": {},
   "source": [
    "### GLONASS"
   ]
  },
  {
   "cell_type": "markdown",
   "metadata": {},
   "source": [
    "Data in the form of the daily csv files, were imported into QGIS mapping software in order to manually visually inspect the data points. This was done at a resolution of 1:100,000.\n",
    "\n",
    "There were no obvious outlying points. \n",
    "Number of points flagged as outliers: 0\n",
    "    \n",
    "The following sections were identified as unusual and have been classified in the table below: \n",
    "| Start date and time (UTC) | End date and time (UTC) | Potential problem |\n",
    "|---------|-----------|----------|\n",
    "| 2017-04-06 15:26:30 | 2017-04-06 15:26:32 | Gap with jump |\n",
    "| 2017-04-06 18:22:07 | 2017-04-06 18:22:09 | Gap with jump |\n",
    "| 2017-04-06 21:41:21 | 2017-04-06 21:41:45 | Strange deflection |\n",
    "| 2017-04-07 15:25:06 | 2017-04-07 15:25:13 | Strange deflection |\n",
    "| 2017-04-08 04:12:44 | 2017-04-08 04:13:27 | Strange deflection |\n",
    "| 2017-04-08 05:01:34 | 2017-04-08 05:01:49 | Strange deflection |\n",
    "| 2017-04-08 18:42:12 | 2017-04-08 18:43:04 | Strange deflection |\n",
    "| 2017-04-08 18:56:02 | 2017-04-08 18:57:27 | Strange deflection |\n",
    "| 2017-04-08 19:00:26 | 2017-04-08 19:01:03 | Strange deflection |\n",
    "| 2017-04-08 19:05:31 | 2017-04-08 19:05:46 | Strange deflection |\n",
    "| 2017-04-10 02:43:40 | 2017-04-10 02:44:25 | Strange deflection |"
   ]
  },
  {
   "cell_type": "markdown",
   "metadata": {},
   "source": [
    "### STEP 3 - Motion data correction"
   ]
  },
  {
   "cell_type": "markdown",
   "metadata": {},
   "source": [
    "### STEP 4 - Automated data filtering"
   ]
  },
  {
   "cell_type": "markdown",
   "metadata": {},
   "source": [
    "Each data point will be compared with the one before and after to automatically filter out points that are out of the conceivable range of the ship's movement.'\n",
    "\n",
    "The second of two consecutive points to be flagged as \"likely incorrect\" when any of the following cases occur: \n",
    "    - speed between two points >= 20 knots\n",
    "    - acceleration between two points >= 1 ms^-2\n",
    "    - direction between two points >= 5 degrees"
   ]
  },
  {
   "cell_type": "code",
   "execution_count": 213,
   "metadata": {
    "collapsed": false
   },
   "outputs": [
    {
     "data": {
      "text/html": [
       "<div>\n",
       "<style scoped>\n",
       "    .dataframe tbody tr th:only-of-type {\n",
       "        vertical-align: middle;\n",
       "    }\n",
       "\n",
       "    .dataframe tbody tr th {\n",
       "        vertical-align: top;\n",
       "    }\n",
       "\n",
       "    .dataframe thead th {\n",
       "        text-align: right;\n",
       "    }\n",
       "</style>\n",
       "<table border=\"1\" class=\"dataframe\">\n",
       "  <thead>\n",
       "    <tr style=\"text-align: right;\">\n",
       "      <th></th>\n",
       "      <th>id</th>\n",
       "      <th>date_time</th>\n",
       "      <th>latitude</th>\n",
       "      <th>longitude</th>\n",
       "      <th>fix_quality</th>\n",
       "      <th>number_satellites</th>\n",
       "      <th>horiz_dilution_of_position</th>\n",
       "      <th>altitude</th>\n",
       "      <th>altitude_units</th>\n",
       "      <th>geoid_height</th>\n",
       "      <th>geoid_height_units</th>\n",
       "      <th>device_id</th>\n",
       "      <th>measureland_qualifier_flags_id</th>\n",
       "      <th>date_time_day</th>\n",
       "    </tr>\n",
       "  </thead>\n",
       "  <tbody>\n",
       "    <tr>\n",
       "      <th>0</th>\n",
       "      <td>613</td>\n",
       "      <td>2016-12-21 06:59:14.440</td>\n",
       "      <td>-35.838077</td>\n",
       "      <td>18.030717</td>\n",
       "      <td>5</td>\n",
       "      <td>9</td>\n",
       "      <td>0.128</td>\n",
       "      <td>3996.895</td>\n",
       "      <td>M</td>\n",
       "      <td>31.545</td>\n",
       "      <td>M</td>\n",
       "      <td>63</td>\n",
       "      <td>1</td>\n",
       "      <td>2016-12-21</td>\n",
       "    </tr>\n",
       "    <tr>\n",
       "      <th>1</th>\n",
       "      <td>614</td>\n",
       "      <td>2016-12-21 06:59:15.440</td>\n",
       "      <td>-35.838145</td>\n",
       "      <td>18.030720</td>\n",
       "      <td>5</td>\n",
       "      <td>9</td>\n",
       "      <td>0.128</td>\n",
       "      <td>3997.434</td>\n",
       "      <td>M</td>\n",
       "      <td>31.545</td>\n",
       "      <td>M</td>\n",
       "      <td>63</td>\n",
       "      <td>1</td>\n",
       "      <td>2016-12-21</td>\n",
       "    </tr>\n",
       "    <tr>\n",
       "      <th>2</th>\n",
       "      <td>615</td>\n",
       "      <td>2016-12-21 06:59:16.440</td>\n",
       "      <td>-35.838212</td>\n",
       "      <td>18.030725</td>\n",
       "      <td>5</td>\n",
       "      <td>9</td>\n",
       "      <td>0.128</td>\n",
       "      <td>3997.843</td>\n",
       "      <td>M</td>\n",
       "      <td>31.545</td>\n",
       "      <td>M</td>\n",
       "      <td>63</td>\n",
       "      <td>1</td>\n",
       "      <td>2016-12-21</td>\n",
       "    </tr>\n",
       "    <tr>\n",
       "      <th>3</th>\n",
       "      <td>616</td>\n",
       "      <td>2016-12-21 06:59:17.440</td>\n",
       "      <td>-35.838281</td>\n",
       "      <td>18.030731</td>\n",
       "      <td>5</td>\n",
       "      <td>9</td>\n",
       "      <td>0.128</td>\n",
       "      <td>3997.911</td>\n",
       "      <td>M</td>\n",
       "      <td>31.545</td>\n",
       "      <td>M</td>\n",
       "      <td>63</td>\n",
       "      <td>1</td>\n",
       "      <td>2016-12-21</td>\n",
       "    </tr>\n",
       "    <tr>\n",
       "      <th>4</th>\n",
       "      <td>617</td>\n",
       "      <td>2016-12-21 06:59:18.440</td>\n",
       "      <td>-35.838350</td>\n",
       "      <td>18.030737</td>\n",
       "      <td>5</td>\n",
       "      <td>9</td>\n",
       "      <td>0.128</td>\n",
       "      <td>3997.550</td>\n",
       "      <td>M</td>\n",
       "      <td>31.545</td>\n",
       "      <td>M</td>\n",
       "      <td>63</td>\n",
       "      <td>1</td>\n",
       "      <td>2016-12-21</td>\n",
       "    </tr>\n",
       "  </tbody>\n",
       "</table>\n",
       "</div>"
      ],
      "text/plain": [
       "    id               date_time   latitude  longitude  fix_quality  \\\n",
       "0  613 2016-12-21 06:59:14.440 -35.838077  18.030717            5   \n",
       "1  614 2016-12-21 06:59:15.440 -35.838145  18.030720            5   \n",
       "2  615 2016-12-21 06:59:16.440 -35.838212  18.030725            5   \n",
       "3  616 2016-12-21 06:59:17.440 -35.838281  18.030731            5   \n",
       "4  617 2016-12-21 06:59:18.440 -35.838350  18.030737            5   \n",
       "\n",
       "   number_satellites  horiz_dilution_of_position  altitude altitude_units  \\\n",
       "0                  9                       0.128  3996.895              M   \n",
       "1                  9                       0.128  3997.434              M   \n",
       "2                  9                       0.128  3997.843              M   \n",
       "3                  9                       0.128  3997.911              M   \n",
       "4                  9                       0.128  3997.550              M   \n",
       "\n",
       "   geoid_height geoid_height_units  device_id  measureland_qualifier_flags_id  \\\n",
       "0        31.545                  M         63                               1   \n",
       "1        31.545                  M         63                               1   \n",
       "2        31.545                  M         63                               1   \n",
       "3        31.545                  M         63                               1   \n",
       "4        31.545                  M         63                               1   \n",
       "\n",
       "  date_time_day  \n",
       "0    2016-12-21  \n",
       "1    2016-12-21  \n",
       "2    2016-12-21  \n",
       "3    2016-12-21  \n",
       "4    2016-12-21  "
      ]
     },
     "execution_count": 213,
     "metadata": {},
     "output_type": "execute_result"
    }
   ],
   "source": [
    "# Test\n",
    "df_test = gpsdb_df.head(10000)\n",
    "df_test.head(5)"
   ]
  },
  {
   "cell_type": "code",
   "execution_count": 214,
   "metadata": {
    "collapsed": true
   },
   "outputs": [],
   "source": [
    "def get_location(datetime, position_df):\n",
    "    \"\"\"Create a tuple of the date_time, latitude and longitude of a location in a dataframe from a given date_time.\"\"\"\n",
    "    \n",
    "    latitude = position_df[position_df.date_time == datetime].latitude.item()\n",
    "    longitude = position_df[position_df.date_time == datetime].longitude.item()\n",
    "    \n",
    "    location = (datetime, latitude, longitude)\n",
    "    \n",
    "    return location"
   ]
  },
  {
   "cell_type": "code",
   "execution_count": 215,
   "metadata": {
    "collapsed": false
   },
   "outputs": [],
   "source": [
    "def calculate_distance(origin, destination):\n",
    "    \"\"\"Calculate the haversine or great-circle distance in metres between two points with latitudes and longitudes, where they are known as the origin and destination.\"\"\"\n",
    "    \n",
    "    datetime1, lat1, lon1 = origin\n",
    "    datetime2, lat2, lon2 = destination\n",
    "    radius = 6371  # km\n",
    "    \n",
    "    dlat = math.radians(lat2 - lat1)\n",
    "    dlon = math.radians(lon2 - lon1)\n",
    "    a = math.sin(dlat / 2) * math.sin(dlat / 2) + math.cos(math.radians(lat1)) \\\n",
    "                                                  * math.cos(math.radians(lat2)) * math.sin(dlon / 2) * math.sin(dlon / 2)\n",
    "    c = 2 * math.atan2(math.sqrt(a), math.sqrt(1 - a))\n",
    "    d = radius * c # Distance in km\n",
    "    d_m = d*1000 # Distance in metres\n",
    "    \n",
    "    return d_m"
   ]
  },
  {
   "cell_type": "code",
   "execution_count": 216,
   "metadata": {
    "collapsed": false
   },
   "outputs": [],
   "source": [
    "def knots_two_points(origin, destination):\n",
    "    \"\"\"Calculate the speed in knots between two locations which are dictionaries containing latitude, longitude and date_time.\"\"\"\n",
    "    \n",
    "    distance = calculate_distance(origin, destination)\n",
    "    \n",
    "    datetime1_timestamp, lat1, lon1 = origin\n",
    "    datetime2_timestamp, lat2, lon2 = destination\n",
    "    #datetime1 = datetime.datetime.strptime(datetime_str1,\"%Y-%m-%d %H:%M:%S.%f\")\n",
    "    #datetime2 = datetime.datetime.strptime(datetime_str2,\"%Y-%m-%d %H:%M:%S.%f\")\n",
    "    \n",
    "    datetime1 = datetime1_timestamp.timestamp()\n",
    "    datetime2 = datetime2_timestamp.timestamp()\n",
    "    \n",
    "    seconds = abs((datetime1) - (datetime2))\n",
    "    #seconds = abs((datetime_str1)-(datetime_str2)).total_seconds()\n",
    "    conversion = 3600/1852 # convert 1 ms-1 to knots (nautical miles per hour; 1 nm = 1852 metres)\n",
    "    speed_knots = (distance/seconds) * conversion\n",
    "    \n",
    "    if seconds > 0:\n",
    "        return speed_knots\n",
    "    else:\n",
    "        return \"N/A\""
   ]
  },
  {
   "cell_type": "code",
   "execution_count": null,
   "metadata": {
    "collapsed": false
   },
   "outputs": [],
   "source": [
    "destination = (Timestamp('2016-12-21 06:59:14.440000'), -35.8380768456667, 18.0307165761667)\n",
    "origin = (Timestamp('2016-12-21 06:59:14.440000'), -35.8380768456667, 18.0307165761667)\n",
    "knots_two_points(origin, destination)"
   ]
  },
  {
   "cell_type": "code",
   "execution_count": 217,
   "metadata": {
    "collapsed": true
   },
   "outputs": [],
   "source": [
    "def set_utc(date_time):\n",
    "    \"\"\"Set the timezone to be UTC.\"\"\"\n",
    "    utc = datetime.timezone(datetime.timedelta(0))\n",
    "    date_time = date_time.replace(tzinfo=utc)\n",
    "    return date_time"
   ]
  },
  {
   "cell_type": "code",
   "execution_count": 256,
   "metadata": {
    "collapsed": false
   },
   "outputs": [],
   "source": [
    "def analyse_speed(position_df):\n",
    "    \"\"\"Analyse the cruise track to ensure each point lies within a reasonable distance and direction from the previous point.\"\"\"\n",
    "    \n",
    "    total_data_points = len(position_df)\n",
    "    \n",
    "    earliest_date_time = position_df['date_time'].min()\n",
    "    latest_date_time = position_df['date_time'].max()\n",
    "\n",
    "    current_date = earliest_date_time\n",
    "\n",
    "    previous_position = get_location(earliest_date_time, position_df)\n",
    "    datetime_previous, latitude_previous, longitude_previous = previous_position\n",
    "      \n",
    "    count_speed_errors = 0\n",
    "    \n",
    "    line_number = -1\n",
    "    for position in position_df.itertuples():\n",
    "        line_number += 1\n",
    "        if line_number == 0:\n",
    "            continue\n",
    "\n",
    "        current_position = position[2:5]\n",
    "        row_index = position[0]\n",
    "        \n",
    "        #print(current_position)\n",
    "        speed_knots = knots_two_points(previous_position, current_position)\n",
    "\n",
    "        error_message = \"\"\n",
    "\n",
    "        if speed_knots == \"N/A\":\n",
    "            error_message = \"No speed?\"\n",
    "            position_df.at[row_index, 'measureland_qualifier_flag_speed'] = 9\n",
    "            position_df.loc[position_df['id'] == row_index, 'measureland_qualifier_flag_speed'] = 9\n",
    "            print(position_df['id' == row_index])\n",
    "        elif speed_knots >= 20:\n",
    "            error_message += \"** Too fast **\"\n",
    "            #print(row_id)\n",
    "            #print(position_df[position_df['id'] == row_id])\n",
    "            position_df.loc[position_df['id'] == row_index, 'measureland_qualifier_flag_speed'] = 4\n",
    "            count_speed_errors += 1\n",
    "        elif speed_knots < 20:\n",
    "            position_df.loc[position_df['id'] == row_index, 'measureland_qualifier_flag_speed'] = 1\n",
    "\n",
    "        if error_message != \"\":\n",
    "            print(\"Error {} {}   ({:.4f}, {:.4f})   speed: {} knots\".format(error_message, current_position[0], current_position[1], current_position[2], speed_knots))\n",
    "\n",
    "        previous_position = current_position\n",
    "        \n",
    "    return count_speed_errors"
   ]
  },
  {
   "cell_type": "code",
   "execution_count": 257,
   "metadata": {
    "collapsed": true
   },
   "outputs": [],
   "source": [
    "def calculate_bearing(origin, destination):\n",
    "    \"\"\"Calculate the direction turned between two points.\"\"\"\n",
    "    \n",
    "    datetime1, lat1, lon1 = origin\n",
    "    datetime2, lat2, lon2 = destination\n",
    "    \n",
    "    dlon = math.radians(lon2 - lon1)\n",
    "    \n",
    "    bearing = math.atan2(math.sin(dlon) * math.cos(math.radians(lat2)), \n",
    "                         math.cos(math.radians(lat1)) * math.sin(math.radians(lat2)) \n",
    "                         - math.sin(math.radians(lat1)) * math.cos(math.radians(lat2)) * math.cos(dlon))\n",
    "    \n",
    "    bearing_degrees = math.degrees(bearing)\n",
    "    \n",
    "    return bearing_degrees\n",
    "    "
   ]
  },
  {
   "cell_type": "code",
   "execution_count": 258,
   "metadata": {
    "collapsed": true
   },
   "outputs": [],
   "source": [
    "def calculate_bearing_difference(current_bearing, previous_bearing):\n",
    "    \"\"\"Calculate the difference between two bearings, based on bearings between 0 and 360.\"\"\"\n",
    "    \n",
    "    difference = current_bearing - previous_bearing\n",
    "\n",
    "    while difference < -180:\n",
    "        difference += 360\n",
    "    while difference > 180:\n",
    "        difference -= 360\n",
    "    \n",
    "    return difference"
   ]
  },
  {
   "cell_type": "code",
   "execution_count": 261,
   "metadata": {
    "collapsed": true
   },
   "outputs": [],
   "source": [
    "def analyse_course(position_df):\n",
    "    \"\"\"Analyse the change in the course between two points regarding the bearing and acceleration - these features need information from previous points.\"\"\"\n",
    "    \n",
    "    total_data_points = len(position_df)\n",
    "    \n",
    "    earliest_date_time = position_df['date_time'].min()\n",
    "    current_date = earliest_date_time\n",
    "    \n",
    "    previous_position = get_location(earliest_date_time, position_df)\n",
    "    datetime_previous, latitude_previous, longitude_previous = previous_position\n",
    "     \n",
    "    previous_bearing = 0\n",
    "    previous_speed_knots = 0\n",
    "\n",
    "    count_bearing_errors = 0\n",
    "    count_acceleration_errors = 0      \n",
    "\n",
    "    line_number = -1\n",
    "    for position in position_df.itertuples():\n",
    "        line_number += 1\n",
    "        if line_number == 0:\n",
    "            continue\n",
    "            \n",
    "        current_position = position[2:5]\n",
    "        row_index = position[0]\n",
    "\n",
    "        # Calculate bearing and change in bearing\n",
    "        current_bearing = calculate_bearing(previous_position, current_position)\n",
    "        difference_in_bearing = calculate_bearing_difference(current_bearing, previous_bearing)\n",
    "        \n",
    "        # Calculate acceleration between two points\n",
    "        current_speed_knots = knots_two_points(previous_position, current_position)\n",
    "\n",
    "        time_difference = (current_position[0] - previous_position[0]).total_seconds()\n",
    "        speed_difference_metres_per_sec = (current_speed_knots - previous_speed_knots) * (1852/3600) # convert knots to ms-1 \n",
    "        \n",
    "        if time_difference >0:\n",
    "            acceleration = speed_difference_metres_per_sec / time_difference\n",
    "        else:\n",
    "            acceleration = 0\n",
    "\n",
    "        # Print errors where data do not meet requirements\n",
    "        error_message_bearing = \"\"\n",
    "        error_message_acceleration = \"\"\n",
    "\n",
    "        if difference_in_bearing == \"N/A\":\n",
    "            error_message_bearing = \"No bearing?\"\n",
    "            position_df.at[row_index, 'measureland_qualifier_flag_course'] = 9\n",
    "            #position_df.loc[position_df['id'] == row_index, 'measureland_qualifier_flag_course'] = 9\n",
    "            print(row_index)\n",
    "            #print(position_df['id' == row_id])\n",
    "        elif difference_in_bearing >= 5:\n",
    "            error_message_bearing = \"** Turn too tight **\"\n",
    "            position_df.at[row_index, 'measureland_qualifier_flag_course'] = 4\n",
    "            #position_df.loc[position_df['id'] == row_index, 'measureland_qualifier_flag_course'] = 4\n",
    "            print(row_index)\n",
    "            #print(position_df['id' == row_id])\n",
    "            count_bearing_errors += 1\n",
    "\n",
    "        if error_message_bearing != \"\":\n",
    "            print(\"Error:  {} {} ({:.4f}, {:.4f}) bearing change: {} degrees\".format(error_message_bearing, current_position[0], current_position[1], current_position[2], difference_in_bearing))\n",
    "        \n",
    "        if acceleration ==\"N/A\":\n",
    "            error_message_acceleration = \"No acceleration\"\n",
    "            position_df.at[row_index, 'measureland_qualifier_flag_acceleration'] = 9\n",
    "            #position_df.loc[position_df['id'] == row_index, 'measureland_qualifier_flag_acceleration'] = 9\n",
    "            print(row_index)\n",
    "            #print(position_df['id' == row_id])\n",
    "        elif acceleration > 1:\n",
    "            count_acceleration_errors += 1\n",
    "            error_message_acceleration = \"** Acceleration to quick **\"\n",
    "            position_df.at[row_index, 'measureland_qualifier_flag_acceleration'] = 4            \n",
    "            #position_df.loc[position_df['id'] == row_index, 'measureland_qualifier_flag_acceleration'] = 4\n",
    "            print(row_index)\n",
    "            #print(position_df['id' == row_id])\n",
    "            \n",
    "        if error_message_acceleration != \"\":\n",
    "            print(\"Error:  {} {} ({:.4f}, {:.4f}) acceleration: {} ms-2\".format(error_message_acceleration, current_position[0], current_position[1], current_position[2], acceleration))\n",
    "\n",
    "        previous_position = current_position\n",
    "        previous_bearing = current_bearing\n",
    "        previous_speed_knots = current_speed_knots\n",
    "        \n",
    "    return (count_bearing_errors, count_acceleration_errors)"
   ]
  },
  {
   "cell_type": "code",
   "execution_count": 260,
   "metadata": {
    "collapsed": false
   },
   "outputs": [
    {
     "name": "stderr",
     "output_type": "stream",
     "text": [
      "/usr/local/lib/python3.5/dist-packages/pandas/core/indexing.py:543: SettingWithCopyWarning: \n",
      "A value is trying to be set on a copy of a slice from a DataFrame.\n",
      "Try using .loc[row_indexer,col_indexer] = value instead\n",
      "\n",
      "See the caveats in the documentation: http://pandas.pydata.org/pandas-docs/stable/indexing.html#indexing-view-versus-copy\n",
      "  self.obj[item] = s\n"
     ]
    },
    {
     "name": "stdout",
     "output_type": "stream",
     "text": [
      "Error ** Too fast ** 2016-12-21 06:59:15.440000   (999.0000, 18.0307)   speed: 38906216.23416525 knots\n",
      "Error ** Too fast ** 2016-12-21 06:59:16.440000   (-35.8382, 18.0307)   speed: 9761523.731244445 knots\n",
      "Error ** Too fast ** 2016-12-21 07:38:34.470000   (-35.9918, 18.0735)   speed: 1508.480212836083 knots\n"
     ]
    },
    {
     "ename": "KeyboardInterrupt",
     "evalue": "",
     "traceback": [
      "\u001b[0;31m---------------------------------------------------------------------------\u001b[0m",
      "\u001b[0;31mKeyboardInterrupt\u001b[0m                         Traceback (most recent call last)",
      "\u001b[0;32m<ipython-input-260-d6d7878dca65>\u001b[0m in \u001b[0;36m<module>\u001b[0;34m()\u001b[0m\n\u001b[0;32m----> 1\u001b[0;31m \u001b[0manalyse_speed\u001b[0m\u001b[0;34m(\u001b[0m\u001b[0mdf_test\u001b[0m\u001b[0;34m)\u001b[0m\u001b[0;34m\u001b[0m\u001b[0m\n\u001b[0m",
      "\u001b[0;32m<ipython-input-256-40e8bdf9ca21>\u001b[0m in \u001b[0;36manalyse_speed\u001b[0;34m(position_df)\u001b[0m\n\u001b[1;32m     40\u001b[0m             \u001b[0mcount_speed_errors\u001b[0m \u001b[0;34m+=\u001b[0m \u001b[0;36m1\u001b[0m\u001b[0;34m\u001b[0m\u001b[0m\n\u001b[1;32m     41\u001b[0m         \u001b[0;32melif\u001b[0m \u001b[0mspeed_knots\u001b[0m \u001b[0;34m<\u001b[0m \u001b[0;36m20\u001b[0m\u001b[0;34m:\u001b[0m\u001b[0;34m\u001b[0m\u001b[0m\n\u001b[0;32m---> 42\u001b[0;31m             \u001b[0mposition_df\u001b[0m\u001b[0;34m.\u001b[0m\u001b[0mloc\u001b[0m\u001b[0;34m[\u001b[0m\u001b[0mposition_df\u001b[0m\u001b[0;34m[\u001b[0m\u001b[0;34m'id'\u001b[0m\u001b[0;34m]\u001b[0m \u001b[0;34m==\u001b[0m \u001b[0mrow_index\u001b[0m\u001b[0;34m,\u001b[0m \u001b[0;34m'measureland_qualifier_flag_speed'\u001b[0m\u001b[0;34m]\u001b[0m \u001b[0;34m=\u001b[0m \u001b[0;36m1\u001b[0m\u001b[0;34m\u001b[0m\u001b[0m\n\u001b[0m\u001b[1;32m     43\u001b[0m \u001b[0;34m\u001b[0m\u001b[0m\n\u001b[1;32m     44\u001b[0m         \u001b[0;32mif\u001b[0m \u001b[0merror_message\u001b[0m \u001b[0;34m!=\u001b[0m \u001b[0;34m\"\"\u001b[0m\u001b[0;34m:\u001b[0m\u001b[0;34m\u001b[0m\u001b[0m\n",
      "\u001b[0;32m/usr/local/lib/python3.5/dist-packages/pandas/core/indexing.py\u001b[0m in \u001b[0;36m__setitem__\u001b[0;34m(self, key, value)\u001b[0m\n\u001b[1;32m    187\u001b[0m             \u001b[0mkey\u001b[0m \u001b[0;34m=\u001b[0m \u001b[0mcom\u001b[0m\u001b[0;34m.\u001b[0m\u001b[0m_apply_if_callable\u001b[0m\u001b[0;34m(\u001b[0m\u001b[0mkey\u001b[0m\u001b[0;34m,\u001b[0m \u001b[0mself\u001b[0m\u001b[0;34m.\u001b[0m\u001b[0mobj\u001b[0m\u001b[0;34m)\u001b[0m\u001b[0;34m\u001b[0m\u001b[0m\n\u001b[1;32m    188\u001b[0m         \u001b[0mindexer\u001b[0m \u001b[0;34m=\u001b[0m \u001b[0mself\u001b[0m\u001b[0;34m.\u001b[0m\u001b[0m_get_setitem_indexer\u001b[0m\u001b[0;34m(\u001b[0m\u001b[0mkey\u001b[0m\u001b[0;34m)\u001b[0m\u001b[0;34m\u001b[0m\u001b[0m\n\u001b[0;32m--> 189\u001b[0;31m         \u001b[0mself\u001b[0m\u001b[0;34m.\u001b[0m\u001b[0m_setitem_with_indexer\u001b[0m\u001b[0;34m(\u001b[0m\u001b[0mindexer\u001b[0m\u001b[0;34m,\u001b[0m \u001b[0mvalue\u001b[0m\u001b[0;34m)\u001b[0m\u001b[0;34m\u001b[0m\u001b[0m\n\u001b[0m\u001b[1;32m    190\u001b[0m \u001b[0;34m\u001b[0m\u001b[0m\n\u001b[1;32m    191\u001b[0m     \u001b[0;32mdef\u001b[0m \u001b[0m_validate_key\u001b[0m\u001b[0;34m(\u001b[0m\u001b[0mself\u001b[0m\u001b[0;34m,\u001b[0m \u001b[0mkey\u001b[0m\u001b[0;34m,\u001b[0m \u001b[0maxis\u001b[0m\u001b[0;34m)\u001b[0m\u001b[0;34m:\u001b[0m\u001b[0;34m\u001b[0m\u001b[0m\n",
      "\u001b[0;32m/usr/local/lib/python3.5/dist-packages/pandas/core/indexing.py\u001b[0m in \u001b[0;36m_setitem_with_indexer\u001b[0;34m(self, indexer, value)\u001b[0m\n\u001b[1;32m    613\u001b[0m                 \u001b[0;31m# scalar\u001b[0m\u001b[0;34m\u001b[0m\u001b[0;34m\u001b[0m\u001b[0m\n\u001b[1;32m    614\u001b[0m                 \u001b[0;32mfor\u001b[0m \u001b[0mitem\u001b[0m \u001b[0;32min\u001b[0m \u001b[0mlabels\u001b[0m\u001b[0;34m:\u001b[0m\u001b[0;34m\u001b[0m\u001b[0m\n\u001b[0;32m--> 615\u001b[0;31m                     \u001b[0msetter\u001b[0m\u001b[0;34m(\u001b[0m\u001b[0mitem\u001b[0m\u001b[0;34m,\u001b[0m \u001b[0mvalue\u001b[0m\u001b[0;34m)\u001b[0m\u001b[0;34m\u001b[0m\u001b[0m\n\u001b[0m\u001b[1;32m    616\u001b[0m \u001b[0;34m\u001b[0m\u001b[0m\n\u001b[1;32m    617\u001b[0m         \u001b[0;32melse\u001b[0m\u001b[0;34m:\u001b[0m\u001b[0;34m\u001b[0m\u001b[0m\n",
      "\u001b[0;32m/usr/local/lib/python3.5/dist-packages/pandas/core/indexing.py\u001b[0m in \u001b[0;36msetter\u001b[0;34m(item, v)\u001b[0m\n\u001b[1;32m    541\u001b[0m \u001b[0;34m\u001b[0m\u001b[0m\n\u001b[1;32m    542\u001b[0m                 \u001b[0;31m# reset the sliced object if unique\u001b[0m\u001b[0;34m\u001b[0m\u001b[0;34m\u001b[0m\u001b[0m\n\u001b[0;32m--> 543\u001b[0;31m                 \u001b[0mself\u001b[0m\u001b[0;34m.\u001b[0m\u001b[0mobj\u001b[0m\u001b[0;34m[\u001b[0m\u001b[0mitem\u001b[0m\u001b[0;34m]\u001b[0m \u001b[0;34m=\u001b[0m \u001b[0ms\u001b[0m\u001b[0;34m\u001b[0m\u001b[0m\n\u001b[0m\u001b[1;32m    544\u001b[0m \u001b[0;34m\u001b[0m\u001b[0m\n\u001b[1;32m    545\u001b[0m             \u001b[0;32mdef\u001b[0m \u001b[0mcan_do_equal_len\u001b[0m\u001b[0;34m(\u001b[0m\u001b[0;34m)\u001b[0m\u001b[0;34m:\u001b[0m\u001b[0;34m\u001b[0m\u001b[0m\n",
      "\u001b[0;32m/usr/local/lib/python3.5/dist-packages/pandas/core/frame.py\u001b[0m in \u001b[0;36m__setitem__\u001b[0;34m(self, key, value)\u001b[0m\n\u001b[1;32m   3117\u001b[0m         \u001b[0;32melse\u001b[0m\u001b[0;34m:\u001b[0m\u001b[0;34m\u001b[0m\u001b[0m\n\u001b[1;32m   3118\u001b[0m             \u001b[0;31m# set column\u001b[0m\u001b[0;34m\u001b[0m\u001b[0;34m\u001b[0m\u001b[0m\n\u001b[0;32m-> 3119\u001b[0;31m             \u001b[0mself\u001b[0m\u001b[0;34m.\u001b[0m\u001b[0m_set_item\u001b[0m\u001b[0;34m(\u001b[0m\u001b[0mkey\u001b[0m\u001b[0;34m,\u001b[0m \u001b[0mvalue\u001b[0m\u001b[0;34m)\u001b[0m\u001b[0;34m\u001b[0m\u001b[0m\n\u001b[0m\u001b[1;32m   3120\u001b[0m \u001b[0;34m\u001b[0m\u001b[0m\n\u001b[1;32m   3121\u001b[0m     \u001b[0;32mdef\u001b[0m \u001b[0m_setitem_slice\u001b[0m\u001b[0;34m(\u001b[0m\u001b[0mself\u001b[0m\u001b[0;34m,\u001b[0m \u001b[0mkey\u001b[0m\u001b[0;34m,\u001b[0m \u001b[0mvalue\u001b[0m\u001b[0;34m)\u001b[0m\u001b[0;34m:\u001b[0m\u001b[0;34m\u001b[0m\u001b[0m\n",
      "\u001b[0;32m/usr/local/lib/python3.5/dist-packages/pandas/core/frame.py\u001b[0m in \u001b[0;36m_set_item\u001b[0;34m(self, key, value)\u001b[0m\n\u001b[1;32m   3199\u001b[0m         \u001b[0;31m# value exception to occur first\u001b[0m\u001b[0;34m\u001b[0m\u001b[0;34m\u001b[0m\u001b[0m\n\u001b[1;32m   3200\u001b[0m         \u001b[0;32mif\u001b[0m \u001b[0mlen\u001b[0m\u001b[0;34m(\u001b[0m\u001b[0mself\u001b[0m\u001b[0;34m)\u001b[0m\u001b[0;34m:\u001b[0m\u001b[0;34m\u001b[0m\u001b[0m\n\u001b[0;32m-> 3201\u001b[0;31m             \u001b[0mself\u001b[0m\u001b[0;34m.\u001b[0m\u001b[0m_check_setitem_copy\u001b[0m\u001b[0;34m(\u001b[0m\u001b[0;34m)\u001b[0m\u001b[0;34m\u001b[0m\u001b[0m\n\u001b[0m\u001b[1;32m   3202\u001b[0m \u001b[0;34m\u001b[0m\u001b[0m\n\u001b[1;32m   3203\u001b[0m     \u001b[0;32mdef\u001b[0m \u001b[0minsert\u001b[0m\u001b[0;34m(\u001b[0m\u001b[0mself\u001b[0m\u001b[0;34m,\u001b[0m \u001b[0mloc\u001b[0m\u001b[0;34m,\u001b[0m \u001b[0mcolumn\u001b[0m\u001b[0;34m,\u001b[0m \u001b[0mvalue\u001b[0m\u001b[0;34m,\u001b[0m \u001b[0mallow_duplicates\u001b[0m\u001b[0;34m=\u001b[0m\u001b[0;32mFalse\u001b[0m\u001b[0;34m)\u001b[0m\u001b[0;34m:\u001b[0m\u001b[0;34m\u001b[0m\u001b[0m\n",
      "\u001b[0;32m/usr/local/lib/python3.5/dist-packages/pandas/core/generic.py\u001b[0m in \u001b[0;36m_check_setitem_copy\u001b[0;34m(self, stacklevel, t, force)\u001b[0m\n\u001b[1;32m   2671\u001b[0m             \u001b[0;31m# the copy weakref\u001b[0m\u001b[0;34m\u001b[0m\u001b[0;34m\u001b[0m\u001b[0m\n\u001b[1;32m   2672\u001b[0m             \u001b[0;32mtry\u001b[0m\u001b[0;34m:\u001b[0m\u001b[0;34m\u001b[0m\u001b[0m\n\u001b[0;32m-> 2673\u001b[0;31m                 \u001b[0mgc\u001b[0m\u001b[0;34m.\u001b[0m\u001b[0mcollect\u001b[0m\u001b[0;34m(\u001b[0m\u001b[0;36m2\u001b[0m\u001b[0;34m)\u001b[0m\u001b[0;34m\u001b[0m\u001b[0m\n\u001b[0m\u001b[1;32m   2674\u001b[0m                 \u001b[0;32mif\u001b[0m \u001b[0;32mnot\u001b[0m \u001b[0mgc\u001b[0m\u001b[0;34m.\u001b[0m\u001b[0mget_referents\u001b[0m\u001b[0;34m(\u001b[0m\u001b[0mself\u001b[0m\u001b[0;34m.\u001b[0m\u001b[0m_is_copy\u001b[0m\u001b[0;34m(\u001b[0m\u001b[0;34m)\u001b[0m\u001b[0;34m)\u001b[0m\u001b[0;34m:\u001b[0m\u001b[0;34m\u001b[0m\u001b[0m\n\u001b[1;32m   2675\u001b[0m                     \u001b[0mself\u001b[0m\u001b[0;34m.\u001b[0m\u001b[0m_is_copy\u001b[0m \u001b[0;34m=\u001b[0m \u001b[0;32mNone\u001b[0m\u001b[0;34m\u001b[0m\u001b[0m\n",
      "\u001b[0;31mKeyboardInterrupt\u001b[0m: "
     ],
     "output_type": "error"
    }
   ],
   "source": [
    "analyse_speed(df_test)"
   ]
  },
  {
   "cell_type": "code",
   "execution_count": 262,
   "metadata": {
    "collapsed": false
   },
   "outputs": [
    {
     "name": "stdout",
     "output_type": "stream",
     "text": [
      "1\n",
      "Error:  ** Turn too tight ** 2016-12-21 06:59:15.440000 (999.0000, 18.0307) bearing change: 89.9999885944378 degrees\n",
      "1\n",
      "Error:  ** Acceleration to quick ** 2016-12-21 06:59:15.440000 (999.0000, 18.0307) acceleration: 20015086.79602057 ms-2\n",
      "3\n",
      "Error:  ** Turn too tight ** 2016-12-21 06:59:17.440000 (-35.8383, 18.0307) bearing change: 175.92133451484625 degrees\n",
      "2360\n",
      "Error:  ** Acceleration to quick ** 2016-12-21 07:38:34.470000 (-35.9918, 18.0735) acceleration: 766.005631429995 ms-2\n",
      "2361\n",
      "Error:  ** Turn too tight ** 2016-12-21 07:38:35.470000 (-35.9918, 18.0735) bearing change: 153.5151020875811 degrees\n"
     ]
    },
    {
     "name": "stderr",
     "output_type": "stream",
     "text": [
      "/usr/local/lib/python3.5/dist-packages/pandas/core/indexing.py:362: SettingWithCopyWarning: \n",
      "A value is trying to be set on a copy of a slice from a DataFrame.\n",
      "Try using .loc[row_indexer,col_indexer] = value instead\n",
      "\n",
      "See the caveats in the documentation: http://pandas.pydata.org/pandas-docs/stable/indexing.html#indexing-view-versus-copy\n",
      "  self.obj[key] = _infer_fill_value(value)\n",
      "/usr/local/lib/python3.5/dist-packages/pandas/core/indexing.py:543: SettingWithCopyWarning: \n",
      "A value is trying to be set on a copy of a slice from a DataFrame.\n",
      "Try using .loc[row_indexer,col_indexer] = value instead\n",
      "\n",
      "See the caveats in the documentation: http://pandas.pydata.org/pandas-docs/stable/indexing.html#indexing-view-versus-copy\n",
      "  self.obj[item] = s\n"
     ]
    },
    {
     "data": {
      "text/plain": [
       "(3, 2)"
      ]
     },
     "execution_count": 262,
     "metadata": {},
     "output_type": "execute_result"
    }
   ],
   "source": [
    "analyse_course(df_test)"
   ]
  },
  {
   "cell_type": "code",
   "execution_count": 253,
   "metadata": {
    "collapsed": false
   },
   "outputs": [
    {
     "data": {
      "text/html": [
       "<div>\n",
       "<style scoped>\n",
       "    .dataframe tbody tr th:only-of-type {\n",
       "        vertical-align: middle;\n",
       "    }\n",
       "\n",
       "    .dataframe tbody tr th {\n",
       "        vertical-align: top;\n",
       "    }\n",
       "\n",
       "    .dataframe thead th {\n",
       "        text-align: right;\n",
       "    }\n",
       "</style>\n",
       "<table border=\"1\" class=\"dataframe\">\n",
       "  <thead>\n",
       "    <tr style=\"text-align: right;\">\n",
       "      <th></th>\n",
       "      <th>id</th>\n",
       "      <th>date_time</th>\n",
       "      <th>latitude</th>\n",
       "      <th>longitude</th>\n",
       "      <th>fix_quality</th>\n",
       "      <th>number_satellites</th>\n",
       "      <th>horiz_dilution_of_position</th>\n",
       "      <th>altitude</th>\n",
       "      <th>altitude_units</th>\n",
       "      <th>geoid_height</th>\n",
       "      <th>geoid_height_units</th>\n",
       "      <th>device_id</th>\n",
       "      <th>measureland_qualifier_flags_id</th>\n",
       "      <th>date_time_day</th>\n",
       "      <th>measureland_qualifier_flag_speed</th>\n",
       "      <th>measureland_qualifier_flag_course</th>\n",
       "    </tr>\n",
       "  </thead>\n",
       "  <tbody>\n",
       "    <tr>\n",
       "      <th>0</th>\n",
       "      <td>613</td>\n",
       "      <td>2016-12-21 06:59:14.440</td>\n",
       "      <td>99.000000</td>\n",
       "      <td>18.030717</td>\n",
       "      <td>5</td>\n",
       "      <td>9</td>\n",
       "      <td>0.128</td>\n",
       "      <td>3996.895</td>\n",
       "      <td>M</td>\n",
       "      <td>31.545</td>\n",
       "      <td>M</td>\n",
       "      <td>63</td>\n",
       "      <td>1</td>\n",
       "      <td>2016-12-21</td>\n",
       "      <td>NaN</td>\n",
       "      <td>NaN</td>\n",
       "    </tr>\n",
       "    <tr>\n",
       "      <th>1</th>\n",
       "      <td>614</td>\n",
       "      <td>2016-12-21 06:59:15.440</td>\n",
       "      <td>999.000000</td>\n",
       "      <td>18.030720</td>\n",
       "      <td>5</td>\n",
       "      <td>9</td>\n",
       "      <td>0.128</td>\n",
       "      <td>3997.434</td>\n",
       "      <td>M</td>\n",
       "      <td>31.545</td>\n",
       "      <td>M</td>\n",
       "      <td>63</td>\n",
       "      <td>1</td>\n",
       "      <td>2016-12-21</td>\n",
       "      <td>4.0</td>\n",
       "      <td>4.0</td>\n",
       "    </tr>\n",
       "    <tr>\n",
       "      <th>2</th>\n",
       "      <td>615</td>\n",
       "      <td>2016-12-21 06:59:16.440</td>\n",
       "      <td>-35.838212</td>\n",
       "      <td>18.030725</td>\n",
       "      <td>5</td>\n",
       "      <td>9</td>\n",
       "      <td>0.128</td>\n",
       "      <td>3997.843</td>\n",
       "      <td>M</td>\n",
       "      <td>31.545</td>\n",
       "      <td>M</td>\n",
       "      <td>63</td>\n",
       "      <td>1</td>\n",
       "      <td>2016-12-21</td>\n",
       "      <td>1.0</td>\n",
       "      <td>NaN</td>\n",
       "    </tr>\n",
       "    <tr>\n",
       "      <th>3</th>\n",
       "      <td>616</td>\n",
       "      <td>2016-12-21 06:59:17.440</td>\n",
       "      <td>-35.838281</td>\n",
       "      <td>18.030731</td>\n",
       "      <td>5</td>\n",
       "      <td>9</td>\n",
       "      <td>0.128</td>\n",
       "      <td>3997.911</td>\n",
       "      <td>M</td>\n",
       "      <td>31.545</td>\n",
       "      <td>M</td>\n",
       "      <td>63</td>\n",
       "      <td>1</td>\n",
       "      <td>2016-12-21</td>\n",
       "      <td>1.0</td>\n",
       "      <td>NaN</td>\n",
       "    </tr>\n",
       "    <tr>\n",
       "      <th>4</th>\n",
       "      <td>617</td>\n",
       "      <td>2016-12-21 06:59:18.440</td>\n",
       "      <td>-35.838350</td>\n",
       "      <td>18.030737</td>\n",
       "      <td>5</td>\n",
       "      <td>9</td>\n",
       "      <td>0.128</td>\n",
       "      <td>3997.550</td>\n",
       "      <td>M</td>\n",
       "      <td>31.545</td>\n",
       "      <td>M</td>\n",
       "      <td>63</td>\n",
       "      <td>1</td>\n",
       "      <td>2016-12-21</td>\n",
       "      <td>1.0</td>\n",
       "      <td>NaN</td>\n",
       "    </tr>\n",
       "  </tbody>\n",
       "</table>\n",
       "</div>"
      ],
      "text/plain": [
       "    id               date_time    latitude  longitude  fix_quality  \\\n",
       "0  613 2016-12-21 06:59:14.440   99.000000  18.030717            5   \n",
       "1  614 2016-12-21 06:59:15.440  999.000000  18.030720            5   \n",
       "2  615 2016-12-21 06:59:16.440  -35.838212  18.030725            5   \n",
       "3  616 2016-12-21 06:59:17.440  -35.838281  18.030731            5   \n",
       "4  617 2016-12-21 06:59:18.440  -35.838350  18.030737            5   \n",
       "\n",
       "   number_satellites  horiz_dilution_of_position  altitude altitude_units  \\\n",
       "0                  9                       0.128  3996.895              M   \n",
       "1                  9                       0.128  3997.434              M   \n",
       "2                  9                       0.128  3997.843              M   \n",
       "3                  9                       0.128  3997.911              M   \n",
       "4                  9                       0.128  3997.550              M   \n",
       "\n",
       "   geoid_height geoid_height_units  device_id  measureland_qualifier_flags_id  \\\n",
       "0        31.545                  M         63                               1   \n",
       "1        31.545                  M         63                               1   \n",
       "2        31.545                  M         63                               1   \n",
       "3        31.545                  M         63                               1   \n",
       "4        31.545                  M         63                               1   \n",
       "\n",
       "  date_time_day  measureland_qualifier_flag_speed  \\\n",
       "0    2016-12-21                               NaN   \n",
       "1    2016-12-21                               4.0   \n",
       "2    2016-12-21                               1.0   \n",
       "3    2016-12-21                               1.0   \n",
       "4    2016-12-21                               1.0   \n",
       "\n",
       "   measureland_qualifier_flag_course  \n",
       "0                                NaN  \n",
       "1                                4.0  \n",
       "2                                NaN  \n",
       "3                                NaN  \n",
       "4                                NaN  "
      ]
     },
     "execution_count": 253,
     "metadata": {},
     "output_type": "execute_result"
    }
   ],
   "source": [
    "df_test.head()\n",
    "#df_test.loc[df_test['id'] == 613, 'latitude'] = 99\n",
    "#df_test.at[1, 'latitude'] = 999"
   ]
  }
 ],
 "metadata": {
  "kernelspec": {
   "display_name": "Python 3",
   "language": "python",
   "name": "python3"
  },
  "language_info": {
   "codemirror_mode": {
    "name": "ipython",
    "version": 3
   },
   "file_extension": ".py",
   "mimetype": "text/x-python",
   "name": "python",
   "nbconvert_exporter": "python",
   "pygments_lexer": "ipython3",
   "version": "3.5.3"
  }
 },
 "nbformat": 4,
 "nbformat_minor": 2
}
